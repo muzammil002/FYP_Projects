{
  "nbformat": 4,
  "nbformat_minor": 0,
  "metadata": {
    "colab": {
      "name": "new_ideal_image.ipynb",
      "provenance": [],
      "mount_file_id": "13tDkKUnr9-Uj8jl8GMlk-NFX2Pp46Qwx",
      "authorship_tag": "ABX9TyN4sn5QV2N0GEaeRFYsCV1T",
      "include_colab_link": true
    },
    "kernelspec": {
      "name": "python3",
      "display_name": "Python 3"
    },
    "language_info": {
      "name": "python"
    }
  },
  "cells": [
    {
      "cell_type": "markdown",
      "metadata": {
        "id": "view-in-github",
        "colab_type": "text"
      },
      "source": [
        "<a href=\"https://colab.research.google.com/github/muzammil002/FYP_Projects/blob/master/new_ideal_image.ipynb\" target=\"_parent\"><img src=\"https://colab.research.google.com/assets/colab-badge.svg\" alt=\"Open In Colab\"/></a>"
      ]
    },
    {
      "cell_type": "code",
      "execution_count": null,
      "metadata": {
        "id": "UOLknPMPK-3P"
      },
      "outputs": [],
      "source": [
        "import glob\n",
        "import os\n",
        "import re\n",
        "import matplotlib.pyplot as plt\n",
        "from matplotlib import colors\n",
        "import numpy as np\n",
        "import cv2\n"
      ]
    },
    {
      "cell_type": "code",
      "source": [
        "mypath=\"/content/drive/MyDrive/checking_image\""
      ],
      "metadata": {
        "id": "kZPiwpW6K_rw"
      },
      "execution_count": null,
      "outputs": []
    },
    {
      "cell_type": "code",
      "source": [
        "newvariable=os.listdir(mypath)\n"
      ],
      "metadata": {
        "id": "JHITn9bzLBtl"
      },
      "execution_count": null,
      "outputs": []
    },
    {
      "cell_type": "code",
      "source": [
        "len(newvariable)"
      ],
      "metadata": {
        "colab": {
          "base_uri": "https://localhost:8080/"
        },
        "id": "cTfYv55VLC7T",
        "outputId": "b1b7f9e3-b6d9-4e98-b9ef-bb6d3c90ba31"
      },
      "execution_count": null,
      "outputs": [
        {
          "output_type": "execute_result",
          "data": {
            "text/plain": [
              "2"
            ]
          },
          "metadata": {},
          "execution_count": 4
        }
      ]
    },
    {
      "cell_type": "code",
      "source": [
        ""
      ],
      "metadata": {
        "id": "8ZvgBqWvWJq1"
      },
      "execution_count": null,
      "outputs": []
    },
    {
      "cell_type": "code",
      "source": [
        ""
      ],
      "metadata": {
        "id": "kxwz5R5_WVCk"
      },
      "execution_count": null,
      "outputs": []
    },
    {
      "cell_type": "code",
      "source": [
        ""
      ],
      "metadata": {
        "id": "pS4hY6_mWPdN"
      },
      "execution_count": null,
      "outputs": []
    },
    {
      "cell_type": "code",
      "source": [
        ""
      ],
      "metadata": {
        "id": "sTdaeThNWMRQ"
      },
      "execution_count": null,
      "outputs": []
    },
    {
      "cell_type": "code",
      "source": [
        "def boundary(array_new,num):\n",
        "\n",
        "  image_size=200\n",
        "\n",
        "  no_boundaries=len(array_new)\n",
        "  max_frame=new_arr[no_boundaries-1][1]\n",
        "  size_one_frame=image_size/max_frame\n",
        "\n",
        "  #size_one_frame\n",
        "  even_indexies=new_arr[::2]\n",
        "  \n",
        "  boundaries=[]\n",
        "  for i in range(0,len(even_indexies)):\n",
        "    even_indexies[i]\n",
        "    for j in range(0,2):\n",
        "      if even_indexies[i][j]/16000 <=1.05:\n",
        "        boundaries.append(even_indexies[i][j]*size_one_frame)\n",
        "\n",
        "#automated function\n",
        "  rounded_boundary = [round(num) for num in boundaries]\n",
        "  new_size=len(rounded_boundary)*5\n",
        "  \n",
        "  array=[[0 for i in range(0,new_size)] for i in range(len(rounded_boundary))]\n",
        "  \n",
        "  merge_list=[]\n",
        "  for i in range(len(array)):  \n",
        "    if i>0:\n",
        "      for j in range(rounded_boundary[i-1],rounded_boundary[i]):\n",
        "        array[i][j]+=4.0\n",
        "      for k in range(rounded_boundary[i-1],rounded_boundary[i]):\n",
        "        merge_list.append(array[i])\n",
        "    else:\n",
        "      for j in range(rounded_boundary[i]):\n",
        "        array[i][j]+=4.0\n",
        "      for k in range(rounded_boundary[i]):\n",
        "        merge_list.append(array[i])\n",
        "  \n",
        "  harvest2=np.array(merge_list)\n",
        "  #print(len(merge_list))\n",
        "  print(np.shape(harvest2))\n",
        "  #print(type(harvest2))\n",
        "  #harvest2=np.reshape(harvest2,(70,70))\n",
        "  #print(len(harvest2))\n",
        "  print(np.size(harvest2))\n",
        "  print(np.size(merge_list))\n",
        "  #harvest3=harvest2.reshape[70,70]\n",
        "  #print((harvest3))\n",
        "\n",
        "  cmap = colors.ListedColormap(['red', 'blue'])\n",
        "  fig, ax = plt.subplots()\n",
        "  im_result = ax.imshow(harvest2,cmap=cmap)\n",
        "  #plt.savefig(f'/content/drive/MyDrive/Ideal_image/{num}_img.jpg')\n",
        "  #plt.savefig(f'{num}_img.jpg')\n",
        "  \n"
      ],
      "metadata": {
        "id": "MNautO_PLOLW"
      },
      "execution_count": 181,
      "outputs": []
    },
    {
      "cell_type": "code",
      "source": [
        "data=[]\n",
        "for i in range(0,2):\n",
        "  f = open(os.path.join(mypath+'/'+newvariable[i]), 'r')\n",
        "  lst=f.read()\n",
        "  lst=(re.sub('\\D', ' ', lst))\n",
        "  new=np.fromstring(lst,dtype=int, sep=' ')\n",
        "  shape=np.shape(new)\n",
        "  new_shape=shape[0]/2\n",
        "  new_arr=np.array_split(new,new_shape)\n",
        "  boundary(new_arr,i)\n",
        "  \n"
      ],
      "metadata": {
        "colab": {
          "base_uri": "https://localhost:8080/",
          "height": 628
        },
        "id": "OugxrDpzLOuu",
        "outputId": "1a713be1-9f22-469a-92fd-6030885312d0"
      },
      "execution_count": 183,
      "outputs": [
        {
          "output_type": "stream",
          "name": "stdout",
          "text": [
            "(70, 75)\n",
            "5250\n",
            "5250\n",
            "(57, 60)\n",
            "3420\n",
            "3420\n"
          ]
        },
        {
          "output_type": "display_data",
          "data": {
            "image/png": "[encoded data removed]",
            "text/plain": [
              "<Figure size 432x288 with 1 Axes>"
            ]
          },
          "metadata": {
            "needs_background": "light"
          }
        },
        {
          "output_type": "display_data",
          "data": {
            "image/png": "[encoded data removed]",
            "text/plain": [
              "<Figure size 432x288 with 1 Axes>"
            ]
          },
          "metadata": {
            "needs_background": "light"
          }
        }
      ]
    },
    {
      "cell_type": "markdown",
      "source": [
        "# Change this code only\n"
      ],
      "metadata": {
        "id": "zEoIB_GZXMS-"
      }
    },
    {
      "cell_type": "code",
      "source": [
        "# change this code only\n",
        "\"\"\" ALI see this function and in the last you can see that shape is 57,200 and we want this shape to be \n",
        "57 by 57 \"\"\"\n",
        "\n",
        "f = open(os.path.join(mypath+'/'+newvariable[1]), 'r')\n",
        "lst=f.read()\n",
        "lst=(re.sub('\\D', ' ', lst))\n",
        "new=np.fromstring(lst,dtype=int, sep=' ')\n",
        "shape=np.shape(new)\n",
        "new_shape=shape[0]/2\n",
        "new_arr=np.array_split(new,new_shape)\n",
        "image_size=200\n",
        "\n",
        "no_boundaries=len(new_arr)\n",
        "max_frame=new_arr[no_boundaries-1][1]\n",
        "size_one_frame=image_size/max_frame\n",
        "\n",
        "  #size_one_frame\n",
        "even_indexies=new_arr[::2]\n",
        "  \n",
        "boundaries=[]\n",
        "for i in range(0,len(even_indexies)):\n",
        "    even_indexies[i]\n",
        "    for j in range(0,2):\n",
        "      if even_indexies[i][j]/16000 <=1.05:\n",
        "        boundaries.append(even_indexies[i][j]*size_one_frame)\n",
        "\n",
        "#automated function\n",
        "rounded_boundary = [round(num) for num in boundaries]\n",
        "print(np.size(rounded_boundary))\n",
        "new_size=len(rounded_boundary)*5\n",
        "print(new_size)\n",
        "#print(len(rounded_boundary))  \n",
        "array=[[0 for i in range(0,len(merge_list))] for i in range(len(rounded_boundary))]\n",
        "#print(np.shape(array))\n",
        "#print(array[0])\n",
        "merge_list=[]\n",
        "for i in range(len(array)):  \n",
        "    if i>0:\n",
        "      for j in range(rounded_boundary[i-1],rounded_boundary[i]):\n",
        "        array[i][j]+=4.0\n",
        "      for k in range(rounded_boundary[i-1],rounded_boundary[i]):\n",
        "        merge_list.append(array[i])\n",
        "    else:\n",
        "      for j in range(rounded_boundary[i]):\n",
        "        array[i][j]+=4.0\n",
        "      for k in range(rounded_boundary[i]):\n",
        "        merge_list.append(array[i])\n",
        "print(len(merge_list))\n",
        "harvest2=np.array(merge_list)\n",
        "  #print(len(merge_list))\n",
        "#print(np.shape(harvest2))\n",
        "#print(len(harvest2))\n",
        "#print(harvest2)\n",
        "#print(np.size(harvest2))\n",
        "cmap = colors.ListedColormap(['red', 'blue'])\n",
        "fig, ax = plt.subplots()\n",
        "im_result = ax.imshow(harvest2,cmap=cmap)\n",
        "#harvest2.reshape(57,57)\n",
        "#resize_harvest2=harvest2.reshape(11400,1)\n",
        "#print(np.shape(resize_harvest2))"
      ],
      "metadata": {
        "colab": {
          "base_uri": "https://localhost:8080/",
          "height": 322
        },
        "id": "6fqSvufaWgIF",
        "outputId": "d2a7f4b7-a2ef-4206-8b3a-34390ab709eb"
      },
      "execution_count": 180,
      "outputs": [
        {
          "output_type": "stream",
          "name": "stdout",
          "text": [
            "12\n",
            "60\n",
            "57\n"
          ]
        },
        {
          "output_type": "display_data",
          "data": {
            "image/png": "[encoded data removed]",
            "text/plain": [
              "<Figure size 432x288 with 1 Axes>"
            ]
          },
          "metadata": {
            "needs_background": "light"
          }
        }
      ]
    },
    {
      "cell_type": "code",
      "source": [
        "  \n",
        "array=[[0 for i in range(0,54)] for i in range(len(rounded_boundary))]\n",
        "print(np.shape(array))\n",
        "len(array)"
      ],
      "metadata": {
        "id": "goFDuTPH0yn7",
        "colab": {
          "base_uri": "https://localhost:8080/"
        },
        "outputId": "03b6fbdc-2469-41fd-fff3-4775ac280ee8"
      },
      "execution_count": null,
      "outputs": [
        {
          "output_type": "stream",
          "name": "stdout",
          "text": [
            "(12, 54)\n"
          ]
        },
        {
          "output_type": "execute_result",
          "data": {
            "text/plain": [
              "12"
            ]
          },
          "metadata": {},
          "execution_count": 137
        }
      ]
    },
    {
      "cell_type": "code",
      "source": [
        "size_one_frame"
      ],
      "metadata": {
        "colab": {
          "base_uri": "https://localhost:8080/"
        },
        "id": "w6XaPdvjWj7V",
        "outputId": "4861daae-1a4e-48a8-c464-2700ce710be1"
      },
      "execution_count": null,
      "outputs": [
        {
          "output_type": "execute_result",
          "data": {
            "text/plain": [
              "0.0038187855787476283"
            ]
          },
          "metadata": {},
          "execution_count": 35
        }
      ]
    },
    {
      "cell_type": "code",
      "source": [
        ""
      ],
      "metadata": {
        "id": "YcA88W08Wq_d"
      },
      "execution_count": null,
      "outputs": []
    },
    {
      "cell_type": "code",
      "source": [
        ""
      ],
      "metadata": {
        "colab": {
          "base_uri": "https://localhost:8080/",
          "height": 172
        },
        "id": "gPIf75lrLQKe",
        "outputId": "eda093e9-b487-4200-ba2c-b4481940df96"
      },
      "execution_count": null,
      "outputs": [
        {
          "output_type": "error",
          "ename": "NameError",
          "evalue": "ignored",
          "traceback": [
            "\u001b[0;31m---------------------------------------------------------------------------\u001b[0m",
            "\u001b[0;31mNameError\u001b[0m                                 Traceback (most recent call last)",
            "\u001b[0;32m<ipython-input-22-90ee71691229>\u001b[0m in \u001b[0;36m<module>\u001b[0;34m()\u001b[0m\n\u001b[0;32m----> 1\u001b[0;31m \u001b[0mlen\u001b[0m\u001b[0;34m(\u001b[0m\u001b[0mmerge_list\u001b[0m\u001b[0;34m)\u001b[0m\u001b[0;34m\u001b[0m\u001b[0;34m\u001b[0m\u001b[0m\n\u001b[0m",
            "\u001b[0;31mNameError\u001b[0m: name 'merge_list' is not defined"
          ]
        }
      ]
    }
  ]
}