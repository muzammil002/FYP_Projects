{
  "nbformat": 4,
  "nbformat_minor": 0,
  "metadata": {
    "colab": {
      "name": "Pytorch_example.ipynb",
      "provenance": [],
      "authorship_tag": "ABX9TyNDJXFHVwX9UDGDXtTCo7fk",
      "include_colab_link": true
    },
    "kernelspec": {
      "name": "python3",
      "display_name": "Python 3"
    },
    "language_info": {
      "name": "python"
    }
  },
  "cells": [
    {
      "cell_type": "markdown",
      "metadata": {
        "id": "view-in-github",
        "colab_type": "text"
      },
      "source": [
        "<a href=\"https://colab.research.google.com/github/muzammil002/FYP_Projects/blob/master/Pytorch_example.ipynb\" target=\"_parent\"><img src=\"https://colab.research.google.com/assets/colab-badge.svg\" alt=\"Open In Colab\"/></a>"
      ]
    },
    {
      "cell_type": "code",
      "execution_count": 5,
      "metadata": {
        "id": "nqEo2PcuH62n"
      },
      "outputs": [],
      "source": [
        "import torch.nn as nn\n",
        "import numpy as np\n",
        "import torch"
      ]
    },
    {
      "cell_type": "code",
      "source": [
        ""
      ],
      "metadata": {
        "id": "YXEyDiMlImvH"
      },
      "execution_count": null,
      "outputs": []
    },
    {
      "cell_type": "code",
      "source": [
        ""
      ],
      "metadata": {
        "id": "i6HkWtXBIZZt"
      },
      "execution_count": null,
      "outputs": []
    },
    {
      "cell_type": "code",
      "source": [
        "inputs = np.array([[73, 67, 43], \n",
        "                   [91, 88, 64], \n",
        "                   [87, 134, 58], \n",
        "                   [102, 43, 37], \n",
        "                   [69, 96, 70], \n",
        "                   [74, 66, 43], \n",
        "                   [91, 87, 65], \n",
        "                   [88, 134, 59], \n",
        "                   [101, 44, 37], \n",
        "                   [68, 96, 71], \n",
        "                   [73, 66, 44], \n",
        "                   [92, 87, 64], \n",
        "                   [87, 135, 57], \n",
        "                   [103, 43, 36], \n",
        "                   [68, 97, 70]], \n",
        "                  dtype='float32')\n",
        "\n",
        "# Targets (apples, oranges)\n",
        "targets = np.array([[56, 70], \n",
        "                    [81, 101], \n",
        "                    [119, 133], \n",
        "                    [22, 37], \n",
        "                    [103, 119],\n",
        "                    [57, 69], \n",
        "                    [80, 102], \n",
        "                    [118, 132], \n",
        "                    [21, 38], \n",
        "                    [104, 118], \n",
        "                    [57, 69], \n",
        "                    [82, 100], \n",
        "                    [118, 134], \n",
        "                    [20, 38], \n",
        "                    [102, 120]], \n",
        "                   dtype='float32')\n",
        "\n",
        "inputs=torch.from_numpy(inputs)\n",
        "targets=torch.from_numpy(targets)"
      ],
      "metadata": {
        "id": "xooZfA7gID3N"
      },
      "execution_count": 7,
      "outputs": []
    },
    {
      "cell_type": "code",
      "source": [
        "from torch.utils.data import TensorDataset\n",
        "from torch.utils.data import DataLoader\n",
        "\n",
        "train_ds= TensorDataset(inputs, targets)\n",
        "batch_size=5\n",
        "train_dl=DataLoader(train_ds,batch_size,shuffle=True)\n"
      ],
      "metadata": {
        "id": "Sk4D2hUnIRny"
      },
      "execution_count": 8,
      "outputs": []
    },
    {
      "cell_type": "code",
      "source": [
        "for xb,yb in train_dl:\n",
        "  print(xb)\n",
        "  print(yb)\n",
        "  break"
      ],
      "metadata": {
        "colab": {
          "base_uri": "https://localhost:8080/"
        },
        "id": "el-vM9n5JNg7",
        "outputId": "d51453ad-5798-465a-8dac-0e5eaf48cd0d"
      },
      "execution_count": 9,
      "outputs": [
        {
          "output_type": "stream",
          "name": "stdout",
          "text": [
            "tensor([[ 68.,  97.,  70.],\n",
            "        [103.,  43.,  36.],\n",
            "        [ 87., 135.,  57.],\n",
            "        [ 69.,  96.,  70.],\n",
            "        [ 92.,  87.,  64.]])\n",
            "tensor([[102., 120.],\n",
            "        [ 20.,  38.],\n",
            "        [118., 134.],\n",
            "        [103., 119.],\n",
            "        [ 82., 100.]])\n"
          ]
        }
      ]
    },
    {
      "cell_type": "code",
      "source": [
        "model=nn.Linear(3,2)\n",
        "print(model.weight)"
      ],
      "metadata": {
        "colab": {
          "base_uri": "https://localhost:8080/"
        },
        "id": "Y5rjgrBOJWoF",
        "outputId": "913dc519-8b46-40d1-d5f9-4a418e3069df"
      },
      "execution_count": 10,
      "outputs": [
        {
          "output_type": "stream",
          "name": "stdout",
          "text": [
            "Parameter containing:\n",
            "tensor([[-0.2383,  0.4561, -0.5393],\n",
            "        [ 0.5710, -0.3239, -0.1425]], requires_grad=True)\n"
          ]
        }
      ]
    },
    {
      "cell_type": "code",
      "source": [
        "preds=model(inputs)\n",
        "preds"
      ],
      "metadata": {
        "colab": {
          "base_uri": "https://localhost:8080/"
        },
        "id": "0CycEBmKJhyx",
        "outputId": "57bc7ec6-3eff-4b3a-f26b-98741aba781d"
      },
      "execution_count": 27,
      "outputs": [
        {
          "output_type": "execute_result",
          "data": {
            "text/plain": [
              "tensor([[-10.5870,  13.5849],\n",
              "        [-16.6228,  14.0679],\n",
              "        [  8.5465,  -2.2582],\n",
              "        [-25.2078,  38.7705],\n",
              "        [-10.9675,  -1.9393],\n",
              "        [-11.2814,  14.4797],\n",
              "        [-17.6182,  14.2492],\n",
              "        [  7.7690,  -1.8298],\n",
              "        [-24.5135,  37.8756],\n",
              "        [-11.2685,  -2.6528],\n",
              "        [-11.5824,  13.7662],\n",
              "        [-17.3172,  14.9627],\n",
              "        [  9.5419,  -2.4396],\n",
              "        [-24.9068,  39.4840],\n",
              "        [-10.2731,  -2.8341]], grad_fn=<AddmmBackward0>)"
            ]
          },
          "metadata": {},
          "execution_count": 27
        }
      ]
    },
    {
      "cell_type": "code",
      "source": [
        ""
      ],
      "metadata": {
        "id": "Q-H6a89OMoEr"
      },
      "execution_count": null,
      "outputs": []
    },
    {
      "cell_type": "code",
      "source": [
        "import torch.nn.functional as F"
      ],
      "metadata": {
        "id": "sqdMSs7sJper"
      },
      "execution_count": 13,
      "outputs": []
    },
    {
      "cell_type": "code",
      "source": [
        "loss_fn = F.mse_loss"
      ],
      "metadata": {
        "id": "YyFwBpINJnkT"
      },
      "execution_count": 16,
      "outputs": []
    },
    {
      "cell_type": "code",
      "source": [
        "loss = loss_fn(preds,targets)\n",
        "loss"
      ],
      "metadata": {
        "colab": {
          "base_uri": "https://localhost:8080/"
        },
        "id": "8-dvChfMJ2bP",
        "outputId": "25cd7b3b-4e5f-40b3-e5f2-1dc0276ff8c2"
      },
      "execution_count": 26,
      "outputs": [
        {
          "output_type": "execute_result",
          "data": {
            "text/plain": [
              "tensor(8494.2344, grad_fn=<MseLossBackward0>)"
            ]
          },
          "metadata": {},
          "execution_count": 26
        }
      ]
    },
    {
      "cell_type": "code",
      "source": [
        "opt=torch.optim.SGD(model.parameters(),lr=1e-5)"
      ],
      "metadata": {
        "id": "Uyz7p1EtKFIM"
      },
      "execution_count": 19,
      "outputs": []
    },
    {
      "cell_type": "code",
      "source": [
        "def fit(num_epoch, model, loss_fn, opt, train_dl):\n",
        "  for epoch in range(num_epoch):\n",
        "    for xb , yb in train_dl:\n",
        "      pred=model(xb)\n",
        "      loss=loss_fn(pred,yb)\n",
        "      loss.backward()\n",
        "      opt.step\n",
        "      opt.zero_grad()\n",
        "    if (epoch+1) % 10 == 0:\n",
        "      print('Epoch [{}/{}], Loss: {:.4f}'.format(epoch+1, num_epoch, loss.item()))\n"
      ],
      "metadata": {
        "id": "spnZnmHWKP5W"
      },
      "execution_count": 24,
      "outputs": []
    },
    {
      "cell_type": "code",
      "source": [
        "fit(100, model, loss_fn, opt, train_dl)"
      ],
      "metadata": {
        "colab": {
          "base_uri": "https://localhost:8080/"
        },
        "id": "MLJIOcwFKBbY",
        "outputId": "3c1138f3-cc19-45b4-b2ce-85f2dcc083d0"
      },
      "execution_count": 25,
      "outputs": [
        {
          "output_type": "stream",
          "name": "stdout",
          "text": [
            "Epoch [10/100], Loss: 5913.5439\n",
            "Epoch [20/100], Loss: 10741.6260\n",
            "Epoch [30/100], Loss: 6959.5889\n",
            "Epoch [40/100], Loss: 7187.4766\n",
            "Epoch [50/100], Loss: 7445.0557\n",
            "Epoch [60/100], Loss: 6485.2300\n",
            "Epoch [70/100], Loss: 9454.2441\n",
            "Epoch [80/100], Loss: 13087.6543\n",
            "Epoch [90/100], Loss: 8275.2910\n",
            "Epoch [100/100], Loss: 12525.1895\n"
          ]
        }
      ]
    },
    {
      "cell_type": "code",
      "source": [
        ""
      ],
      "metadata": {
        "id": "ggvM6PDPMQg-"
      },
      "execution_count": null,
      "outputs": []
    }
  ]
}