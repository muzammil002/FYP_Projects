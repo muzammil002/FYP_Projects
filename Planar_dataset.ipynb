{
  "nbformat": 4,
  "nbformat_minor": 0,
  "metadata": {
    "colab": {
      "name": "Planar_dataset.ipynb",
      "provenance": [],
      "include_colab_link": true
    },
    "kernelspec": {
      "name": "python3",
      "display_name": "Python 3"
    },
    "language_info": {
      "name": "python"
    }
  },
  "cells": [
    {
      "cell_type": "markdown",
      "metadata": {
        "id": "view-in-github",
        "colab_type": "text"
      },
      "source": [
        "<a href=\"https://colab.research.google.com/github/muzammil002/FYP_Projects/blob/master/Planar_dataset.ipynb\" target=\"_parent\"><img src=\"https://colab.research.google.com/assets/colab-badge.svg\" alt=\"Open In Colab\"/></a>"
      ]
    },
    {
      "cell_type": "code",
      "execution_count": null,
      "metadata": {
        "id": "Q_GoBlnNInU7"
      },
      "outputs": [],
      "source": [
        ""
      ]
    },
    {
      "cell_type": "markdown",
      "source": [
        "# Planar Utilis"
      ],
      "metadata": {
        "id": "pT9uX9ctIo_a"
      }
    },
    {
      "cell_type": "code",
      "source": [
        "#@title planar_utils\n",
        "import matplotlib.pyplot as plt\n",
        "import numpy as np\n",
        "import sklearn\n",
        "import sklearn.datasets\n",
        "import sklearn.linear_model\n",
        "\n",
        "def plot_decision_boundary(model, X, y):\n",
        "    # Set min and max values and give it some padding\n",
        "    x_min, x_max = X[0, :].min() - 1, X[0, :].max() + 1\n",
        "    y_min, y_max = X[1, :].min() - 1, X[1, :].max() + 1\n",
        "    h = 0.01\n",
        "    # Generate a grid of points with distance h between them\n",
        "    xx, yy = np.meshgrid(np.arange(x_min, x_max, h), np.arange(y_min, y_max, h))\n",
        "    # Predict the function value for the whole grid\n",
        "    Z = model(np.c_[xx.ravel(), yy.ravel()])\n",
        "    Z = Z.reshape(xx.shape)\n",
        "    # Plot the contour and training examples\n",
        "    plt.contourf(xx, yy, Z, cmap=plt.cm.Spectral)\n",
        "    plt.ylabel('x2')\n",
        "    plt.xlabel('x1')\n",
        "    plt.scatter(X[0, :], X[1, :], c=y, cmap=plt.cm.Spectral)\n",
        "    \n",
        "\n",
        "def sigmoid(x):\n",
        "    \"\"\"\n",
        "    Compute the sigmoid of x\n",
        "\n",
        "    Arguments:\n",
        "    x -- A scalar or numpy array of any size.\n",
        "\n",
        "    Return:\n",
        "    s -- sigmoid(x)\n",
        "    \"\"\"\n",
        "    s = 1/(1+np.exp(-x))\n",
        "    return s\n",
        "\n",
        "def load_planar_dataset():\n",
        "    np.random.seed(1)\n",
        "    m = 400 # number of examples\n",
        "    N = int(m/2) # number of points per class\n",
        "    D = 2 # dimensionality\n",
        "    X = np.zeros((m,D)) # data matrix where each row is a single example\n",
        "    Y = np.zeros((m,1), dtype='uint8') # labels vector (0 for red, 1 for blue)\n",
        "    a = 4 # maximum ray of the flower\n",
        "\n",
        "    for j in range(2):\n",
        "        ix = range(N*j,N*(j+1))\n",
        "        t = np.linspace(j*3.12,(j+1)*3.12,N) + np.random.randn(N)*0.2 # theta\n",
        "        r = a*np.sin(4*t) + np.random.randn(N)*0.2 # radius\n",
        "        X[ix] = np.c_[r*np.sin(t), r*np.cos(t)]\n",
        "        Y[ix] = j\n",
        "        \n",
        "    X = X.T\n",
        "    Y = Y.T\n",
        "\n",
        "    return X, Y\n",
        "\n",
        "def load_extra_datasets():  \n",
        "    N = 200\n",
        "    noisy_circles = sklearn.datasets.make_circles(n_samples=N, factor=.5, noise=.3)\n",
        "    noisy_moons = sklearn.datasets.make_moons(n_samples=N, noise=.2)\n",
        "    blobs = sklearn.datasets.make_blobs(n_samples=N, random_state=5, n_features=2, centers=6)\n",
        "    gaussian_quantiles = sklearn.datasets.make_gaussian_quantiles(mean=None, cov=0.5, n_samples=N, n_features=2, n_classes=2, shuffle=True, random_state=None)\n",
        "    no_structure = np.random.rand(N, 2), np.random.rand(N, 2)\n",
        "    \n",
        "    return noisy_circles, noisy_moons, blobs, gaussian_quantiles, no_structure"
      ],
      "metadata": {
        "id": "rkR5t1tLItfv",
        "cellView": "form"
      },
      "execution_count": null,
      "outputs": []
    },
    {
      "cell_type": "code",
      "source": [
        "#@title testCases_v2\n",
        "import numpy as np\n",
        "\n",
        "def layer_sizes_test_case():\n",
        "    np.random.seed(1)\n",
        "    X_assess = np.random.randn(5, 3)\n",
        "    Y_assess = np.random.randn(2, 3)\n",
        "    return X_assess, Y_assess\n",
        "\n",
        "def initialize_parameters_test_case():\n",
        "    n_x, n_h, n_y = 2, 4, 1\n",
        "    return n_x, n_h, n_y\n",
        "\n",
        "\n",
        "def forward_propagation_test_case():\n",
        "    np.random.seed(1)\n",
        "    X_assess = np.random.randn(2, 3)\n",
        "    b1 = np.random.randn(4,1)\n",
        "    b2 = np.array([[ -1.3]])\n",
        "\n",
        "    parameters = {'W1': np.array([[-0.00416758, -0.00056267],\n",
        "        [-0.02136196,  0.01640271],\n",
        "        [-0.01793436, -0.00841747],\n",
        "        [ 0.00502881, -0.01245288]]),\n",
        "     'W2': np.array([[-0.01057952, -0.00909008,  0.00551454,  0.02292208]]),\n",
        "     'b1': b1,\n",
        "     'b2': b2}\n",
        "\n",
        "    return X_assess, parameters\n",
        "\n",
        "def compute_cost_test_case():\n",
        "    np.random.seed(1)\n",
        "    Y_assess = (np.random.randn(1, 3) > 0)\n",
        "    parameters = {'W1': np.array([[-0.00416758, -0.00056267],\n",
        "        [-0.02136196,  0.01640271],\n",
        "        [-0.01793436, -0.00841747],\n",
        "        [ 0.00502881, -0.01245288]]),\n",
        "     'W2': np.array([[-0.01057952, -0.00909008,  0.00551454,  0.02292208]]),\n",
        "     'b1': np.array([[ 0.],\n",
        "        [ 0.],\n",
        "        [ 0.],\n",
        "        [ 0.]]),\n",
        "     'b2': np.array([[ 0.]])}\n",
        "\n",
        "    a2 = (np.array([[ 0.5002307 ,  0.49985831,  0.50023963]]))\n",
        "    \n",
        "    return a2, Y_assess, parameters\n",
        "\n",
        "def backward_propagation_test_case():\n",
        "    np.random.seed(1)\n",
        "    X_assess = np.random.randn(2, 3)\n",
        "    Y_assess = (np.random.randn(1, 3) > 0)\n",
        "    parameters = {'W1': np.array([[-0.00416758, -0.00056267],\n",
        "        [-0.02136196,  0.01640271],\n",
        "        [-0.01793436, -0.00841747],\n",
        "        [ 0.00502881, -0.01245288]]),\n",
        "     'W2': np.array([[-0.01057952, -0.00909008,  0.00551454,  0.02292208]]),\n",
        "     'b1': np.array([[ 0.],\n",
        "        [ 0.],\n",
        "        [ 0.],\n",
        "        [ 0.]]),\n",
        "     'b2': np.array([[ 0.]])}\n",
        "\n",
        "    cache = {'A1': np.array([[-0.00616578,  0.0020626 ,  0.00349619],\n",
        "         [-0.05225116,  0.02725659, -0.02646251],\n",
        "         [-0.02009721,  0.0036869 ,  0.02883756],\n",
        "         [ 0.02152675, -0.01385234,  0.02599885]]),\n",
        "  'A2': np.array([[ 0.5002307 ,  0.49985831,  0.50023963]]),\n",
        "  'Z1': np.array([[-0.00616586,  0.0020626 ,  0.0034962 ],\n",
        "         [-0.05229879,  0.02726335, -0.02646869],\n",
        "         [-0.02009991,  0.00368692,  0.02884556],\n",
        "         [ 0.02153007, -0.01385322,  0.02600471]]),\n",
        "  'Z2': np.array([[ 0.00092281, -0.00056678,  0.00095853]])}\n",
        "    return parameters, cache, X_assess, Y_assess\n",
        "\n",
        "def update_parameters_test_case():\n",
        "    parameters = {'W1': np.array([[-0.00615039,  0.0169021 ],\n",
        "        [-0.02311792,  0.03137121],\n",
        "        [-0.0169217 , -0.01752545],\n",
        "        [ 0.00935436, -0.05018221]]),\n",
        " 'W2': np.array([[-0.0104319 , -0.04019007,  0.01607211,  0.04440255]]),\n",
        " 'b1': np.array([[ -8.97523455e-07],\n",
        "        [  8.15562092e-06],\n",
        "        [  6.04810633e-07],\n",
        "        [ -2.54560700e-06]]),\n",
        " 'b2': np.array([[  9.14954378e-05]])}\n",
        "\n",
        "    grads = {'dW1': np.array([[ 0.00023322, -0.00205423],\n",
        "        [ 0.00082222, -0.00700776],\n",
        "        [-0.00031831,  0.0028636 ],\n",
        "        [-0.00092857,  0.00809933]]),\n",
        " 'dW2': np.array([[ -1.75740039e-05,   3.70231337e-03,  -1.25683095e-03,\n",
        "          -2.55715317e-03]]),\n",
        " 'db1': np.array([[  1.05570087e-07],\n",
        "        [ -3.81814487e-06],\n",
        "        [ -1.90155145e-07],\n",
        "        [  5.46467802e-07]]),\n",
        " 'db2': np.array([[ -1.08923140e-05]])}\n",
        "    return parameters, grads\n",
        "\n",
        "def nn_model_test_case():\n",
        "    np.random.seed(1)\n",
        "    X_assess = np.random.randn(2, 3)\n",
        "    Y_assess = (np.random.randn(1, 3) > 0)\n",
        "    return X_assess, Y_assess\n",
        "\n",
        "def predict_test_case():\n",
        "    np.random.seed(1)\n",
        "    X_assess = np.random.randn(2, 3)\n",
        "    parameters = {'W1': np.array([[-0.00615039,  0.0169021 ],\n",
        "        [-0.02311792,  0.03137121],\n",
        "        [-0.0169217 , -0.01752545],\n",
        "        [ 0.00935436, -0.05018221]]),\n",
        "     'W2': np.array([[-0.0104319 , -0.04019007,  0.01607211,  0.04440255]]),\n",
        "     'b1': np.array([[ -8.97523455e-07],\n",
        "        [  8.15562092e-06],\n",
        "        [  6.04810633e-07],\n",
        "        [ -2.54560700e-06]]),\n",
        "     'b2': np.array([[  9.14954378e-05]])}\n",
        "    return parameters, X_assess\n"
      ],
      "metadata": {
        "id": "Q3y3_69mIv-G",
        "cellView": "form"
      },
      "execution_count": null,
      "outputs": []
    },
    {
      "cell_type": "code",
      "source": [
        "# Package imports\n",
        "import numpy as np\n",
        "import matplotlib.pyplot as plt\n",
        "import sklearn\n",
        "import sklearn.datasets\n",
        "import sklearn.linear_model\n",
        "\n",
        "%matplotlib inline\n",
        "\n",
        "np.random.seed(1) # set a seed so that the results are consistent"
      ],
      "metadata": {
        "id": "X-IaLm36IwJL"
      },
      "execution_count": null,
      "outputs": []
    },
    {
      "cell_type": "code",
      "source": [
        "X, Y = load_planar_dataset()"
      ],
      "metadata": {
        "id": "TiuOdlI4IwMG"
      },
      "execution_count": null,
      "outputs": []
    },
    {
      "cell_type": "code",
      "source": [
        "# Visualize the data:\n",
        "plt.scatter(X[0, :], X[1, :], c=Y[0], s=40, cmap=plt.cm.Spectral);"
      ],
      "metadata": {
        "id": "qWqkTcneIwOd"
      },
      "execution_count": null,
      "outputs": []
    },
    {
      "cell_type": "code",
      "source": [
        "### START CODE HERE ### (≈ 3 lines of code)\n",
        "shape_X = X.shape\n",
        "shape_Y = Y.shape\n",
        "m = Y.shape[1]  # training set size\n",
        "### END CODE HERE ###\n",
        "\n",
        "print ('The shape of X is: ' + str(shape_X))\n",
        "print ('The shape of Y is: ' + str(shape_Y))\n",
        "print ('I have m = %d training examples!' % (m))"
      ],
      "metadata": {
        "id": "Ah82JWSWIwQp"
      },
      "execution_count": null,
      "outputs": []
    },
    {
      "cell_type": "code",
      "source": [
        ""
      ],
      "metadata": {
        "id": "Lvminh2LJAQJ"
      },
      "execution_count": null,
      "outputs": []
    },
    {
      "cell_type": "markdown",
      "source": [
        "# Training the Logistic Regression"
      ],
      "metadata": {
        "id": "xEH7M2S5JEKd"
      }
    },
    {
      "cell_type": "code",
      "source": [
        "# Train the logistic regression classifier\n",
        "clf = sklearn.linear_model.LogisticRegressionCV();\n",
        "clf.fit(X.T, Y.T);"
      ],
      "metadata": {
        "id": "y8LF0KVQJG-D"
      },
      "execution_count": null,
      "outputs": []
    },
    {
      "cell_type": "code",
      "source": [
        "# Plot the decision boundary for logistic regression\n",
        "plot_decision_boundary(lambda x: clf.predict(x), X, Y)\n",
        "plt.title(\"Logistic Regression\")\n",
        "\n",
        "# Print accuracy\n",
        "LR_predictions = clf.predict(X.T)\n",
        "print ('Accuracy of logistic regression: %d ' % float((np.dot(Y,LR_predictions) + np.dot(1-Y,1-LR_predictions))/float(Y.size)*100) +\n",
        "       '% ' + \"(percentage of correctly labelled datapoints)\")"
      ],
      "metadata": {
        "id": "yVm2_ywmJAUv"
      },
      "execution_count": null,
      "outputs": []
    },
    {
      "cell_type": "code",
      "source": [
        "# GRADED FUNCTION: layer_sizes\n",
        "\n",
        "def layer_sizes(X, Y):\n",
        "    \"\"\"\n",
        "    Arguments:\n",
        "    X -- input dataset of shape (input size, number of examples)\n",
        "    Y -- labels of shape (output size, number of examples)\n",
        "    \n",
        "    Returns:\n",
        "    n_x -- the size of the input layer\n",
        "    n_h -- the size of the hidden layer\n",
        "    n_y -- the size of the output layer\n",
        "    \"\"\"\n",
        "    ### START CODE HERE ### (≈ 3 lines of code)\n",
        "    n_x = X.shape[0] # size of input layer\n",
        "    n_h = 4\n",
        "    n_y = Y.shape[0] # size of output layer\n",
        "    ### END CODE HERE ###\n",
        "    return (n_x, n_h, n_y)"
      ],
      "metadata": {
        "id": "1KkM-KXJJAY0"
      },
      "execution_count": null,
      "outputs": []
    },
    {
      "cell_type": "code",
      "source": [
        "X_assess, Y_assess = layer_sizes_test_case()\n",
        "(n_x, n_h, n_y) = layer_sizes(X_assess, Y_assess)\n",
        "print(\"The size of the input layer is: n_x = \" + str(n_x))\n",
        "print(\"The size of the hidden layer is: n_h = \" + str(n_h))\n",
        "print(\"The size of the output layer is: n_y = \" + str(n_y))"
      ],
      "metadata": {
        "id": "6KZoqdXPJM_n"
      },
      "execution_count": null,
      "outputs": []
    },
    {
      "cell_type": "code",
      "source": [
        ""
      ],
      "metadata": {
        "id": "oRmTj1pjJWyv"
      },
      "execution_count": null,
      "outputs": []
    },
    {
      "cell_type": "markdown",
      "source": [
        "#Initialize the model's parameters "
      ],
      "metadata": {
        "id": "SvNP38ldJrEG"
      }
    },
    {
      "cell_type": "code",
      "source": [
        "# GRADED FUNCTION: initialize_parameters\n",
        "\n",
        "def initialize_parameters(n_x, n_h, n_y):\n",
        "    \"\"\"\n",
        "    Argument:\n",
        "    n_x -- size of the input layer\n",
        "    n_h -- size of the hidden layer\n",
        "    n_y -- size of the output layer\n",
        "    \n",
        "    Returns:\n",
        "    params -- python dictionary containing your parameters:\n",
        "                    W1 -- weight matrix of shape (n_h, n_x)\n",
        "                    b1 -- bias vector of shape (n_h, 1)\n",
        "                    W2 -- weight matrix of shape (n_y, n_h)\n",
        "                    b2 -- bias vector of shape (n_y, 1)\n",
        "    \"\"\"\n",
        "    \n",
        "    np.random.seed(2) # we set up a seed so that your output matches ours although the initialization is random.\n",
        "    \n",
        "    ### START CODE HERE ### (≈ 4 lines of code)\n",
        "    W1 = np.random.randn(n_h, n_x) * 0.01\n",
        "    b1 = np.zeros([n_h,1])\n",
        "    W2 = np.random.randn(n_y, n_h) * 0.01\n",
        "    b2 = np.zeros([n_y,1])\n",
        "    ### END CODE HERE ###\n",
        "    \n",
        "    assert (W1.shape == (n_h, n_x))\n",
        "    assert (b1.shape == (n_h, 1))\n",
        "    assert (W2.shape == (n_y, n_h))\n",
        "    assert (b2.shape == (n_y, 1))\n",
        "    \n",
        "    parameters = {\"W1\": W1,\n",
        "                  \"b1\": b1,\n",
        "                  \"W2\": W2,\n",
        "                  \"b2\": b2}\n",
        "    \n",
        "    return parameters"
      ],
      "metadata": {
        "id": "8lBcUCDCJrur"
      },
      "execution_count": null,
      "outputs": []
    },
    {
      "cell_type": "code",
      "source": [
        "n_x, n_h, n_y = initialize_parameters_test_case()\n",
        "\n",
        "parameters = initialize_parameters(n_x, n_h, n_y)\n",
        "print(\"W1 = \" + str(parameters[\"W1\"]))\n",
        "print(\"b1 = \" + str(parameters[\"b1\"]))\n",
        "print(\"W2 = \" + str(parameters[\"W2\"]))\n",
        "print(\"b2 = \" + str(parameters[\"b2\"]))"
      ],
      "metadata": {
        "id": "g_P_pDQbJW21"
      },
      "execution_count": null,
      "outputs": []
    },
    {
      "cell_type": "code",
      "source": [
        "# GRADED FUNCTION: forward_propagation\n",
        "\n",
        "def forward_propagation(X, parameters):\n",
        "    \"\"\"\n",
        "    Argument:\n",
        "    X -- input data of size (n_x, m)\n",
        "    parameters -- python dictionary containing your parameters (output of initialization function)\n",
        "    \n",
        "    Returns:\n",
        "    A2 -- The sigmoid output of the second activation\n",
        "    cache -- a dictionary containing \"Z1\", \"A1\", \"Z2\" and \"A2\"\n",
        "    \"\"\"\n",
        "    # Retrieve each parameter from the dictionary \"parameters\"\n",
        "    ### START CODE HERE ### (≈ 4 lines of code)\n",
        "    W1 = parameters['W1']\n",
        "    b1 = parameters['b1']\n",
        "    W2 = parameters['W2']\n",
        "    b2 = parameters['b2']\n",
        "    ### END CODE HERE ###\n",
        "    \n",
        "    # Implement Forward Propagation to calculate A2 (probabilities)\n",
        "    ### START CODE HERE ### (≈ 4 lines of code)\n",
        "    Z1 = np.dot(W1, X) + b1\n",
        "    A1 = np.tanh(Z1)\n",
        "    Z2 = np.dot(W2,A1) + b2\n",
        "    A2 = sigmoid(Z2)\n",
        "    ### END CODE HERE ###\n",
        "    \n",
        "    assert(A2.shape == (1, X.shape[1]))\n",
        "    \n",
        "    cache = {\"Z1\": Z1,\n",
        "             \"A1\": A1,\n",
        "             \"Z2\": Z2,\n",
        "             \"A2\": A2}\n",
        "    \n",
        "    return A2, cache"
      ],
      "metadata": {
        "id": "JEfcY3VRJNCU"
      },
      "execution_count": null,
      "outputs": []
    },
    {
      "cell_type": "code",
      "source": [
        "forward_propagation_test_case()"
      ],
      "metadata": {
        "id": "6tfYg-UtJNE0"
      },
      "execution_count": null,
      "outputs": []
    },
    {
      "cell_type": "code",
      "source": [
        "X_assess, parameters = forward_propagation_test_case()\n",
        "A2, cache = forward_propagation(X_assess, parameters)\n",
        "\n",
        "# Note: we use the mean here just to make sure that your output matches ours. \n",
        "print(np.mean(cache['Z1']) ,np.mean(cache['A1']),np.mean(cache['Z2']),np.mean(cache['A2']))"
      ],
      "metadata": {
        "id": "zTpJkGPjJNG4"
      },
      "execution_count": null,
      "outputs": []
    },
    {
      "cell_type": "code",
      "source": [
        "# GRADED FUNCTION: compute_cost\n",
        "\n",
        "def compute_cost(A2, Y, parameters):\n",
        "    \"\"\"\n",
        "    Computes the cross-entropy cost given in equation (13)\n",
        "    \n",
        "    Arguments:\n",
        "    A2 -- The sigmoid output of the second activation, of shape (1, number of examples)\n",
        "    Y -- \"true\" labels vector of shape (1, number of examples)\n",
        "    parameters -- python dictionary containing your parameters W1, b1, W2 and b2\n",
        "    \n",
        "    Returns:\n",
        "    cost -- cross-entropy cost given equation (13)\n",
        "    \"\"\"\n",
        "    \n",
        "    m = Y.shape[1] # number of example\n",
        "\n",
        "    # Compute the cross-entropy cost\n",
        "    ### START CODE HERE ### (≈ 2 lines of code)\n",
        "    logprobs = np.multiply(np.log(A2),Y) + ((1-Y) * np.log(1 - A2))\n",
        "    cost = -(1/m) * np.sum(logprobs)\n",
        "    ### END CODE HERE ###\n",
        "    \n",
        "    cost = np.squeeze(cost)     # makes sure cost is the dimension we expect. \n",
        "                                # E.g., turns [[17]] into 17 \n",
        "    assert(isinstance(cost, float))\n",
        "    \n",
        "    return cost"
      ],
      "metadata": {
        "id": "xAj7e4-1JAa6"
      },
      "execution_count": null,
      "outputs": []
    },
    {
      "cell_type": "code",
      "source": [
        "A2, Y_assess, parameters = compute_cost_test_case()\n",
        "\n",
        "print(\"cost = \" + str(compute_cost(A2, Y_assess, parameters)))"
      ],
      "metadata": {
        "id": "0PP_FD3HIwSx"
      },
      "execution_count": null,
      "outputs": []
    },
    {
      "cell_type": "code",
      "source": [
        "# GRADED FUNCTION: backward_propagation\n",
        "\n",
        "def backward_propagation(parameters, cache, X, Y):\n",
        "    \"\"\"\n",
        "    Implement the backward propagation using the instructions above.\n",
        "    \n",
        "    Arguments:\n",
        "    parameters -- python dictionary containing our parameters \n",
        "    cache -- a dictionary containing \"Z1\", \"A1\", \"Z2\" and \"A2\".\n",
        "    X -- input data of shape (2, number of examples)\n",
        "    Y -- \"true\" labels vector of shape (1, number of examples)\n",
        "    \n",
        "    Returns:\n",
        "    grads -- python dictionary containing your gradients with respect to different parameters\n",
        "    \"\"\"\n",
        "    m = X.shape[1]\n",
        "    \n",
        "    # First, retrieve W1 and W2 from the dictionary \"parameters\".\n",
        "    ### START CODE HERE ### (≈ 2 lines of code)\n",
        "    W1 = parameters[\"W1\"]\n",
        "    W2 = parameters[\"W2\"]\n",
        "    ### END CODE HERE ###\n",
        "        \n",
        "    # Retrieve also A1 and A2 from dictionary \"cache\".\n",
        "    ### START CODE HERE ### (≈ 2 lines of code)\n",
        "    A1 = cache[\"A1\"]\n",
        "    A2 = cache[\"A2\"]\n",
        "    ### END CODE HERE ###\n",
        "    \n",
        "    # Backward propagation: calculate dW1, db1, dW2, db2. \n",
        "    ### START CODE HERE ### (≈ 6 lines of code, corresponding to 6 equations on slide above)\n",
        "    dZ2 = A2 - Y\n",
        "    dW2 = (1/m) * np.dot(dZ2, A1.T)\n",
        "    db2 = (1/m) * np.sum(dZ2, axis =1, keepdims = True)\n",
        "    dZ1 = np.dot(W2.T, dZ2) * (1 - np.power(A1, 2))\n",
        "    dW1 = (1/m) * np.dot(dZ1, X.T)\n",
        "    db1 = (1/m) * np.sum(dZ1, axis =1, keepdims = True)\n",
        "    ### END CODE HERE ###\n",
        "    \n",
        "    grads = {\"dW1\": dW1,\n",
        "             \"db1\": db1,\n",
        "             \"dW2\": dW2,\n",
        "             \"db2\": db2}\n",
        "    \n",
        "    return grads"
      ],
      "metadata": {
        "id": "hL9W0qT6IwU1"
      },
      "execution_count": null,
      "outputs": []
    },
    {
      "cell_type": "code",
      "source": [
        "parameters, cache, X_assess, Y_assess = backward_propagation_test_case()\n",
        "\n",
        "grads = backward_propagation(parameters, cache, X_assess, Y_assess)\n",
        "print (\"dW1 = \"+ str(grads[\"dW1\"]))\n",
        "print (\"db1 = \"+ str(grads[\"db1\"]))\n",
        "print (\"dW2 = \"+ str(grads[\"dW2\"]))\n",
        "print (\"db2 = \"+ str(grads[\"db2\"]))"
      ],
      "metadata": {
        "id": "stm_hxXnKCd2"
      },
      "execution_count": null,
      "outputs": []
    },
    {
      "cell_type": "code",
      "source": [
        "backward_propagation_test_case()"
      ],
      "metadata": {
        "id": "4Pm0idjEKCgJ"
      },
      "execution_count": null,
      "outputs": []
    },
    {
      "cell_type": "code",
      "source": [
        "# GRADED FUNCTION: update_parameters\n",
        "\n",
        "def update_parameters(parameters, grads, learning_rate = 1.2):\n",
        "    \"\"\"\n",
        "    Updates parameters using the gradient descent update rule given above\n",
        "    \n",
        "    Arguments:\n",
        "    parameters -- python dictionary containing your parameters \n",
        "    grads -- python dictionary containing your gradients \n",
        "    \n",
        "    Returns:\n",
        "    parameters -- python dictionary containing your updated parameters \n",
        "    \"\"\"\n",
        "    # Retrieve each parameter from the dictionary \"parameters\"\n",
        "    ### START CODE HERE ### (≈ 4 lines of code)\n",
        "    W1 = parameters[\"W1\"]\n",
        "    b1 = parameters[\"b1\"]\n",
        "    W2 = parameters[\"W2\"]\n",
        "    b2 = parameters[\"b2\"]\n",
        "    ### END CODE HERE ###\n",
        "    \n",
        "    # Retrieve each gradient from the dictionary \"grads\"\n",
        "    ### START CODE HERE ### (≈ 4 lines of code)\n",
        "    dW1 = grads[\"dW1\"]\n",
        "    db1 = grads[\"db1\"]\n",
        "    dW2 = grads[\"dW2\"]\n",
        "    db2 = grads[\"db2\"]\n",
        "    ## END CODE HERE ###\n",
        "    \n",
        "    # Update rule for each parameter\n",
        "    ### START CODE HERE ### (≈ 4 lines of code)\n",
        "    W1 = W1 - learning_rate * dW1\n",
        "    b1 = b1 - learning_rate * db1\n",
        "    W2 = W2 - learning_rate * dW2\n",
        "    b2 = b2 - learning_rate * db2\n",
        "    ### END CODE HERE ###\n",
        "    \n",
        "    parameters = {\"W1\": W1,\n",
        "                  \"b1\": b1,\n",
        "                  \"W2\": W2,\n",
        "                  \"b2\": b2}\n",
        "    \n",
        "    return parameters"
      ],
      "metadata": {
        "id": "I3-1EQPSKCiw"
      },
      "execution_count": null,
      "outputs": []
    },
    {
      "cell_type": "code",
      "source": [
        "parameters, grads = update_parameters_test_case()\n",
        "parameters = update_parameters(parameters, grads)\n",
        "\n",
        "print(\"W1 = \" + str(parameters[\"W1\"]))\n",
        "print(\"b1 = \" + str(parameters[\"b1\"]))\n",
        "print(\"W2 = \" + str(parameters[\"W2\"]))\n",
        "print(\"b2 = \" + str(parameters[\"b2\"]))"
      ],
      "metadata": {
        "id": "gjPEul0GKCkz"
      },
      "execution_count": null,
      "outputs": []
    },
    {
      "cell_type": "code",
      "source": [
        "# GRADED FUNCTION: nn_model\n",
        "\n",
        "def nn_model(X, Y, n_h, num_iterations = 10000, print_cost=False):\n",
        "    \"\"\"\n",
        "    Arguments:\n",
        "    X -- dataset of shape (2, number of examples)\n",
        "    Y -- labels of shape (1, number of examples)\n",
        "    n_h -- size of the hidden layer\n",
        "    num_iterations -- Number of iterations in gradient descent loop\n",
        "    print_cost -- if True, print the cost every 1000 iterations\n",
        "    \n",
        "    Returns:\n",
        "    parameters -- parameters learnt by the model. They can then be used to predict.\n",
        "    \"\"\"\n",
        "    \n",
        "    np.random.seed(3)\n",
        "    n_x = layer_sizes(X, Y)[0]\n",
        "    n_y = layer_sizes(X, Y)[2]\n",
        "    \n",
        "    # Initialize parameters, then retrieve W1, b1, W2, b2. Inputs: \"n_x, n_h, n_y\". Outputs = \"W1, b1, W2, b2, parameters\".\n",
        "    ### START CODE HERE ### (≈ 5 lines of code)\n",
        "    parameters = initialize_parameters(n_x,n_h,n_y)\n",
        "    W1 = parameters[\"W1\"]\n",
        "    b1 = parameters[\"b1\"]\n",
        "    W2 = parameters[\"W2\"]\n",
        "    b2 = parameters[\"b2\"]\n",
        "    ### END CODE HERE ###\n",
        "    \n",
        "    # Loop (gradient descent)\n",
        "\n",
        "    for i in range(0, num_iterations):\n",
        "         \n",
        "        ### START CODE HERE ### (≈ 4 lines of code)\n",
        "        # Forward propagation. Inputs: \"X, parameters\". Outputs: \"A2, cache\".\n",
        "        A2, cache = forward_propagation(X, parameters)\n",
        "        \n",
        "        # Cost function. Inputs: \"A2, Y, parameters\". Outputs: \"cost\".\n",
        "        cost = compute_cost(A2, Y, parameters)\n",
        " \n",
        "        # Backpropagation. Inputs: \"parameters, cache, X, Y\". Outputs: \"grads\".\n",
        "        grads = backward_propagation(parameters, cache, X, Y)\n",
        " \n",
        "        # Gradient descent parameter update. Inputs: \"parameters, grads\". Outputs: \"parameters\".\n",
        "        parameters = update_parameters(parameters, grads)\n",
        "        \n",
        "        ### END CODE HERE ###\n",
        "        \n",
        "        # Print the cost every 1000 iterations\n",
        "        if print_cost and i % 1000 == 0:\n",
        "            print (\"Cost after iteration %i: %f\" %(i, cost))\n",
        "\n",
        "    return parameters"
      ],
      "metadata": {
        "id": "G7KaLX3pKQKZ"
      },
      "execution_count": null,
      "outputs": []
    },
    {
      "cell_type": "code",
      "source": [
        "X_assess, Y_assess = nn_model_test_case()\n",
        "parameters = nn_model(X_assess, Y_assess, 4, num_iterations=10000, print_cost=True)\n",
        "print(\"W1 = \" + str(parameters[\"W1\"]))\n",
        "print(\"b1 = \" + str(parameters[\"b1\"]))\n",
        "print(\"W2 = \" + str(parameters[\"W2\"]))\n",
        "print(\"b2 = \" + str(parameters[\"b2\"]))"
      ],
      "metadata": {
        "id": "y7kRYxsuKQM9"
      },
      "execution_count": null,
      "outputs": []
    },
    {
      "cell_type": "code",
      "source": [
        "nn_model_test_case()"
      ],
      "metadata": {
        "id": "cp9TOzBYKQPZ"
      },
      "execution_count": null,
      "outputs": []
    },
    {
      "cell_type": "code",
      "source": [
        "# GRADED FUNCTION: predict\n",
        "\n",
        "def predict(parameters, X):\n",
        "    \"\"\"\n",
        "    Using the learned parameters, predicts a class for each example in X\n",
        "    \n",
        "    Arguments:\n",
        "    parameters -- python dictionary containing your parameters \n",
        "    X -- input data of size (n_x, m)\n",
        "    \n",
        "    Returns\n",
        "    predictions -- vector of predictions of our model (red: 0 / blue: 1)\n",
        "    \"\"\"\n",
        "    \n",
        "    # Computes probabilities using forward propagation, and classifies to 0/1 using 0.5 as the threshold.\n",
        "    ### START CODE HERE ### (≈ 2 lines of code)\n",
        "    A2, cache = forward_propagation(X, parameters)\n",
        "    predictions = (A2 > 0.5)\n",
        "    ### END CODE HERE ###\n",
        "    \n",
        "    return predictions"
      ],
      "metadata": {
        "id": "UKI0gD-8KQQq"
      },
      "execution_count": null,
      "outputs": []
    },
    {
      "cell_type": "code",
      "source": [
        "parameters, X_assess = predict_test_case()\n",
        "\n",
        "predictions = predict(parameters, X_assess)\n",
        "print(\"predictions mean = \" + str(np.mean(predictions)))"
      ],
      "metadata": {
        "id": "7m4YKnoiKQTE"
      },
      "execution_count": null,
      "outputs": []
    },
    {
      "cell_type": "code",
      "source": [
        "# Build a model with a n_h-dimensional hidden layer\n",
        "parameters = nn_model(X, Y, n_h = 4, num_iterations = 10000, print_cost=True)\n",
        "\n",
        "# Plot the decision boundary\n",
        "plot_decision_boundary(lambda x: predict(parameters, x.T), X, Y)\n",
        "plt.title(\"Decision Boundary for hidden layer size \" + str(4))"
      ],
      "metadata": {
        "id": "_eg93HNQKd4D"
      },
      "execution_count": null,
      "outputs": []
    },
    {
      "cell_type": "code",
      "source": [
        "# Print accuracy\n",
        "predictions = predict(parameters, X)\n",
        "print ('Accuracy: %d' % float((np.dot(Y,predictions.T) + np.dot(1-Y,1-predictions.T))/float(Y.size)*100) + '%')"
      ],
      "metadata": {
        "id": "8e7lFqr6Kd6r"
      },
      "execution_count": null,
      "outputs": []
    },
    {
      "cell_type": "code",
      "source": [
        ""
      ],
      "metadata": {
        "id": "a2yK0MNlKivL"
      },
      "execution_count": null,
      "outputs": []
    },
    {
      "cell_type": "code",
      "source": [
        ""
      ],
      "metadata": {
        "id": "Y73jrWmoKix3"
      },
      "execution_count": null,
      "outputs": []
    },
    {
      "cell_type": "code",
      "source": [
        ""
      ],
      "metadata": {
        "id": "eYRIxuVQKi0J"
      },
      "execution_count": null,
      "outputs": []
    },
    {
      "cell_type": "code",
      "source": [
        ""
      ],
      "metadata": {
        "id": "rSdVdFtSKd9B"
      },
      "execution_count": null,
      "outputs": []
    }
  ]
}