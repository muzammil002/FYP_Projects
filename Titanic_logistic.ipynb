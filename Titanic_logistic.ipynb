{
  "nbformat": 4,
  "nbformat_minor": 0,
  "metadata": {
    "colab": {
      "name": "Titanic_logistic.ipynb",
      "provenance": [],
      "include_colab_link": true
    },
    "kernelspec": {
      "name": "python3",
      "display_name": "Python 3"
    },
    "language_info": {
      "name": "python"
    }
  },
  "cells": [
    {
      "cell_type": "markdown",
      "metadata": {
        "id": "view-in-github",
        "colab_type": "text"
      },
      "source": [
        "<a href=\"https://colab.research.google.com/github/muzammil002/FYP_Projects/blob/master/Titanic_logistic.ipynb\" target=\"_parent\"><img src=\"https://colab.research.google.com/assets/colab-badge.svg\" alt=\"Open In Colab\"/></a>"
      ]
    },
    {
      "cell_type": "code",
      "execution_count": null,
      "metadata": {
        "id": "VfLvTRLS_kl0"
      },
      "outputs": [],
      "source": [
        ""
      ]
    },
    {
      "cell_type": "markdown",
      "source": [
        "**Logistic Regression**\n",
        "\n",
        "Logistic regression is a statistical model that in its basic form uses a logistic function to model a binary dependent variable, although many more complex extensions exist. In regression analysis, logistic regression (or logit regression) is estimating the parameters of a logistic model (a form of binary regression)."
      ],
      "metadata": {
        "id": "omEa4z3f_mLt"
      }
    },
    {
      "cell_type": "code",
      "source": [
        ""
      ],
      "metadata": {
        "id": "NSi9AyVeCt0E"
      },
      "execution_count": null,
      "outputs": []
    },
    {
      "cell_type": "markdown",
      "source": [
        "The main reasons why Linear regression is not used for classification. Classification needs probability belonging to the class, and it should be in the range between 0 and 1, while linear regression does not bound the predicted probability outcome in range. The linear regression model can generate the predicted probability as any number ranging from negative to positive infinity."
      ],
      "metadata": {
        "id": "_uYvrin7Cub_"
      }
    },
    {
      "cell_type": "code",
      "source": [
        ""
      ],
      "metadata": {
        "id": "Un7ShqdNCvpQ"
      },
      "execution_count": null,
      "outputs": []
    },
    {
      "cell_type": "code",
      "source": [
        "import pandas as pd\n",
        "from sklearn.linear_model import LogisticRegression\n",
        "from sklearn.model_selection import train_test_split\n",
        "from sklearn.metrics import confusion_matrix\n",
        "from sklearn.metrics import accuracy_score\n",
        "import numpy as np\n",
        "\n"
      ],
      "metadata": {
        "id": "e6SbUXpr_0fK"
      },
      "execution_count": null,
      "outputs": []
    },
    {
      "cell_type": "code",
      "source": [
        "#reading our dataset in Alias: data.\n",
        "#data = pd.read_csv(\"/content/drive/My Drive/Datasets/titanic.csv\")\n",
        "\n",
        "#Overviewing our dataset\n",
        "#data.head()"
      ],
      "metadata": {
        "id": "1eTf8np7_7zw"
      },
      "execution_count": null,
      "outputs": []
    },
    {
      "cell_type": "markdown",
      "source": [
        "# Exploring Dataset"
      ],
      "metadata": {
        "id": "VNKI9it6AKek"
      }
    },
    {
      "cell_type": "code",
      "source": [
        "data.shape"
      ],
      "metadata": {
        "id": "vrv5DnKBAHrW"
      },
      "execution_count": null,
      "outputs": []
    },
    {
      "cell_type": "code",
      "source": [
        "#Describing our dataset\n",
        "data.describe()"
      ],
      "metadata": {
        "id": "3Z7QJW7lAHuX"
      },
      "execution_count": null,
      "outputs": []
    },
    {
      "cell_type": "code",
      "source": [
        "#Printing top 5 rows\n",
        "data.head()"
      ],
      "metadata": {
        "id": "LFVunVKtAHxH"
      },
      "execution_count": null,
      "outputs": []
    },
    {
      "cell_type": "code",
      "source": [
        ""
      ],
      "metadata": {
        "id": "eKMLre17AHzU"
      },
      "execution_count": null,
      "outputs": []
    },
    {
      "cell_type": "markdown",
      "source": [
        "# **Checking the Missing** "
      ],
      "metadata": {
        "id": "6_Judty_Ablw"
      }
    },
    {
      "cell_type": "code",
      "source": [
        "print(data.isna().sum(axis = 0))\n",
        "\n",
        "# data.isna().sum(axis = 0)   # Nan values in every column\n",
        "# data.isna().sum(axis = 1)   # Nan values in every row."
      ],
      "metadata": {
        "id": "qaHyUNfZAgpQ"
      },
      "execution_count": null,
      "outputs": []
    },
    {
      "cell_type": "code",
      "source": [
        "Dropping Rows with Nan in all provided columns\n",
        "data = data.dropna(subset=[\"sex\",\"pclass\",\"survived\"])\n"
      ],
      "metadata": {
        "id": "rOF4cpTgAH1-"
      },
      "execution_count": null,
      "outputs": []
    },
    {
      "cell_type": "code",
      "source": [
        "#Again Finding  number of Nan or missing values in all columns\n",
        "print(data.isna().sum(axis = 0))"
      ],
      "metadata": {
        "id": "VqssLl_AAH3P"
      },
      "execution_count": null,
      "outputs": []
    },
    {
      "cell_type": "code",
      "source": [
        ""
      ],
      "metadata": {
        "id": "apOV5xNjAH7O"
      },
      "execution_count": null,
      "outputs": []
    },
    {
      "cell_type": "markdown",
      "source": [
        "# Converting the Male and Female into binary Label"
      ],
      "metadata": {
        "id": "f6bjzxeIA4jA"
      }
    },
    {
      "cell_type": "code",
      "source": [
        "data[\"sex\"] = data[\"sex\"].map({\"male\":1,\"female\":0})\n",
        "\n",
        "data[\"sex\"]"
      ],
      "metadata": {
        "id": "TRWqko8sBBj_"
      },
      "execution_count": null,
      "outputs": []
    },
    {
      "cell_type": "code",
      "source": [
        "data.head()"
      ],
      "metadata": {
        "id": "mydkYGy0A0PH"
      },
      "execution_count": null,
      "outputs": []
    },
    {
      "cell_type": "code",
      "source": [
        ""
      ],
      "metadata": {
        "id": "3ImHXMuZA0R4"
      },
      "execution_count": null,
      "outputs": []
    },
    {
      "cell_type": "markdown",
      "source": [
        "# Features Extraction"
      ],
      "metadata": {
        "id": "VYEnJ7JFBIVl"
      }
    },
    {
      "cell_type": "code",
      "source": [
        "features = data[[\"sex\",\"age\",\"pclass\"]]\n",
        "target = data[[\"survived\"]]\n",
        "features.head()"
      ],
      "metadata": {
        "id": "Y2UfA91IA0V2"
      },
      "execution_count": null,
      "outputs": []
    },
    {
      "cell_type": "code",
      "source": [
        "target.head()\n"
      ],
      "metadata": {
        "id": "lXq-M9IeA0Zr"
      },
      "execution_count": null,
      "outputs": []
    },
    {
      "cell_type": "code",
      "source": [
        ""
      ],
      "metadata": {
        "id": "CAB9hLq2A0b-"
      },
      "execution_count": null,
      "outputs": []
    },
    {
      "cell_type": "markdown",
      "source": [
        "#Dealing with Missing Values in Age "
      ],
      "metadata": {
        "id": "6GtoKB6-BSsR"
      }
    },
    {
      "cell_type": "code",
      "source": [
        "from sklearn.impute import SimpleImputer\n",
        "imputer = SimpleImputer(missing_values=np.nan, strategy='mean')\n",
        "features = imputer.fit_transform(features)"
      ],
      "metadata": {
        "id": "igR8w1IPBQy-"
      },
      "execution_count": null,
      "outputs": []
    },
    {
      "cell_type": "code",
      "source": [
        "features"
      ],
      "metadata": {
        "id": "3lzMK2aqBQ1o"
      },
      "execution_count": null,
      "outputs": []
    },
    {
      "cell_type": "code",
      "source": [
        ""
      ],
      "metadata": {
        "id": "HSyf9sH8BQ3-"
      },
      "execution_count": null,
      "outputs": []
    },
    {
      "cell_type": "markdown",
      "source": [
        "# Splitting Data"
      ],
      "metadata": {
        "id": "MVmpOT9eBe5M"
      }
    },
    {
      "cell_type": "code",
      "source": [
        "feature_train, feature_test, target_train, target_test = train_test_split(features,target)"
      ],
      "metadata": {
        "id": "a9vamx0EBh0m"
      },
      "execution_count": null,
      "outputs": []
    },
    {
      "cell_type": "code",
      "source": [
        ""
      ],
      "metadata": {
        "id": "xwfD0VSnA0f2"
      },
      "execution_count": null,
      "outputs": []
    },
    {
      "cell_type": "markdown",
      "source": [
        "#Training the Model\n"
      ],
      "metadata": {
        "id": "Q-vC-nHjBnFR"
      }
    },
    {
      "cell_type": "code",
      "source": [
        "model = LogisticRegression()\n",
        "model.fit(feature_train, target_train)\n",
        "predictions = model.predict(feature_test)"
      ],
      "metadata": {
        "id": "t6yJkInDBlWH"
      },
      "execution_count": null,
      "outputs": []
    },
    {
      "cell_type": "code",
      "source": [
        ""
      ],
      "metadata": {
        "id": "Zp5yJMjqBlYs"
      },
      "execution_count": null,
      "outputs": []
    },
    {
      "cell_type": "markdown",
      "source": [
        "#Error And Accuracy"
      ],
      "metadata": {
        "id": "KnPnzStvBtdi"
      }
    },
    {
      "cell_type": "code",
      "source": [
        "print(confusion_matrix(target_test,predictions))\n",
        "print(accuracy_score(target_test,predictions))"
      ],
      "metadata": {
        "id": "4VtZj1RLA0iO"
      },
      "execution_count": null,
      "outputs": []
    }
  ]
}