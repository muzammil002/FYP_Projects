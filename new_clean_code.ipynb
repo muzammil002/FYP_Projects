{
  "nbformat": 4,
  "nbformat_minor": 0,
  "metadata": {
    "colab": {
      "name": "new_clean_code.ipynb",
      "provenance": [],
      "include_colab_link": true
    },
    "kernelspec": {
      "name": "python3",
      "display_name": "Python 3"
    },
    "language_info": {
      "name": "python"
    }
  },
  "cells": [
    {
      "cell_type": "markdown",
      "metadata": {
        "id": "view-in-github",
        "colab_type": "text"
      },
      "source": [
        "<a href=\"https://colab.research.google.com/github/muzammil002/FYP_Projects/blob/master/new_clean_code.ipynb\" target=\"_parent\"><img src=\"https://colab.research.google.com/assets/colab-badge.svg\" alt=\"Open In Colab\"/></a>"
      ]
    },
    {
      "cell_type": "code",
      "execution_count": null,
      "metadata": {
        "id": "SXDzUttrQMux"
      },
      "outputs": [],
      "source": [
        "import glob\n",
        "import os\n",
        "import re\n",
        "import matplotlib.pyplot as plt\n",
        "from matplotlib import colors\n",
        "import numpy as np\n",
        "import cv2\n"
      ]
    },
    {
      "cell_type": "code",
      "source": [
        "mypath='/content/drive/MyDrive/FYP_22/Timit_data/TRAIN/DR1/FCJF0'\n"
      ],
      "metadata": {
        "id": "Qfi3eqt3QOMn"
      },
      "execution_count": null,
      "outputs": []
    },
    {
      "cell_type": "code",
      "source": [
        "from google.colab import drive\n",
        "drive.mount('/content/drive')"
      ],
      "metadata": {
        "colab": {
          "base_uri": "https://localhost:8080/"
        },
        "id": "ZQrAzme-ckXM",
        "outputId": "0c15e613-dfc1-4400-cf56-fd4f29a0d5d7"
      },
      "execution_count": null,
      "outputs": [
        {
          "output_type": "stream",
          "name": "stdout",
          "text": [
            "Drive already mounted at /content/drive; to attempt to forcibly remount, call drive.mount(\"/content/drive\", force_remount=True).\n"
          ]
        }
      ]
    },
    {
      "cell_type": "code",
      "source": [
        "newvariable=os.listdir(mypath)\n",
        "newvariable.index('SI1657.PHN')"
      ],
      "metadata": {
        "id": "SbWiNyJfQPaL",
        "colab": {
          "base_uri": "https://localhost:8080/"
        },
        "outputId": "b0626f88-0176-42d4-977d-1a1cb45a1aa5"
      },
      "execution_count": null,
      "outputs": [
        {
          "output_type": "execute_result",
          "data": {
            "text/plain": [
              "14"
            ]
          },
          "metadata": {},
          "execution_count": 209
        }
      ]
    },
    {
      "cell_type": "code",
      "source": [
        "\n"
      ],
      "metadata": {
        "id": "48A8rE2LQRC0"
      },
      "execution_count": null,
      "outputs": []
    },
    {
      "cell_type": "code",
      "source": [
        "data=[]\n",
        "for i in range(22,23):\n",
        "  f = open(os.path.join(mypath+'/'+newvariable[14]), 'r')\n",
        "  lst=f.read()\n",
        "  lst=(re.sub('\\D', ' ', lst))\n",
        "  new=np.fromstring(lst,dtype=int, sep=' ')\n",
        "  shape=np.shape(new)\n",
        "  new_shape=shape[0]/2\n",
        "  new_arr=np.array_split(new,new_shape)\n",
        "\n",
        "\n",
        "# Yahan par array banegi "
      ],
      "metadata": {
        "id": "w58wOQ--QRFx"
      },
      "execution_count": null,
      "outputs": []
    },
    {
      "cell_type": "code",
      "source": [
        "  #boundary(new_arr,i)\n",
        "image_size=161\n",
        "\n",
        "no_boundaries=len(new_arr)\n",
        "max_frame=new_arr[no_boundaries-1][1]\n",
        "size_one_frame=image_size/max_frame\n",
        "# even_indexies=new_arr[::2]\n",
        "even_indexies=new_arr\n",
        "# Yahan par slicing hogi \n",
        "\n",
        "even_indexies\n"
      ],
      "metadata": {
        "id": "OfBQHJMuQRIo",
        "colab": {
          "base_uri": "https://localhost:8080/"
        },
        "outputId": "25937ac2-9a8c-4ef9-d9a3-388ed37a9ab0"
      },
      "execution_count": null,
      "outputs": [
        {
          "output_type": "execute_result",
          "data": {
            "text/plain": [
              "[array([   0, 2120]),\n",
              " array([2120, 2725]),\n",
              " array([2725, 3212]),\n",
              " array([3212, 3533]),\n",
              " array([3533, 4530]),\n",
              " array([4530, 4780]),\n",
              " array([4780, 6057]),\n",
              " array([6057, 7310]),\n",
              " array([7310, 8200]),\n",
              " array([ 8200, 10280]),\n",
              " array([10280, 12291]),\n",
              " array([12291, 13640]),\n",
              " array([13640, 14203]),\n",
              " array([14203, 15325]),\n",
              " array([15325, 16880]),\n",
              " array([16880, 18435]),\n",
              " array([18435, 19853]),\n",
              " array([19853, 21013]),\n",
              " array([21013, 23018]),\n",
              " array([23018, 24400]),\n",
              " array([24400, 25984]),\n",
              " array([25984, 27350]),\n",
              " array([27350, 27947]),\n",
              " array([27947, 28960]),\n",
              " array([28960, 29520]),\n",
              " array([29520, 29940]),\n",
              " array([29940, 31000]),\n",
              " array([31000, 32119]),\n",
              " array([32119, 33440]),\n",
              " array([33440, 34599]),\n",
              " array([34599, 34779]),\n",
              " array([34779, 34945]),\n",
              " array([34945, 36200]),\n",
              " array([36200, 37610]),\n",
              " array([37610, 37840]),\n",
              " array([37840, 40360]),\n",
              " array([40360, 40864]),\n",
              " array([40864, 43480]),\n",
              " array([43480, 45360])]"
            ]
          },
          "metadata": {},
          "execution_count": 211
        }
      ]
    },
    {
      "cell_type": "code",
      "source": [
        "frames=[]"
      ],
      "metadata": {
        "id": "8Ls7mT5ujes2"
      },
      "execution_count": null,
      "outputs": []
    },
    {
      "cell_type": "code",
      "source": [
        "for i in range(len(even_indexies)):\n",
        "  frames.append(even_indexies[i][1])\n",
        "  "
      ],
      "metadata": {
        "id": "u5LYSMaJia-M"
      },
      "execution_count": null,
      "outputs": []
    },
    {
      "cell_type": "code",
      "source": [
        "frames"
      ],
      "metadata": {
        "colab": {
          "base_uri": "https://localhost:8080/"
        },
        "id": "JkmLjk4WjOsL",
        "outputId": "0e2c9345-b7b0-4b87-c3e5-603676b367cb"
      },
      "execution_count": null,
      "outputs": [
        {
          "output_type": "execute_result",
          "data": {
            "text/plain": [
              "[2120,\n",
              " 2725,\n",
              " 3212,\n",
              " 3533,\n",
              " 4530,\n",
              " 4780,\n",
              " 6057,\n",
              " 7310,\n",
              " 8200,\n",
              " 10280,\n",
              " 12291,\n",
              " 13640,\n",
              " 14203,\n",
              " 15325,\n",
              " 16880,\n",
              " 18435,\n",
              " 19853,\n",
              " 21013,\n",
              " 23018,\n",
              " 24400,\n",
              " 25984,\n",
              " 27350,\n",
              " 27947,\n",
              " 28960,\n",
              " 29520,\n",
              " 29940,\n",
              " 31000,\n",
              " 32119,\n",
              " 33440,\n",
              " 34599,\n",
              " 34779,\n",
              " 34945,\n",
              " 36200,\n",
              " 37610,\n",
              " 37840,\n",
              " 40360,\n",
              " 40864,\n",
              " 43480,\n",
              " 45360]"
            ]
          },
          "metadata": {},
          "execution_count": 214
        }
      ]
    },
    {
      "cell_type": "code",
      "source": [
        "boundary=[]"
      ],
      "metadata": {
        "id": "1_3ReeSQj8nI"
      },
      "execution_count": null,
      "outputs": []
    },
    {
      "cell_type": "code",
      "source": [
        "for i in range(len(frames)):\n",
        "  if frames[i]/16000<=1.02:\n",
        "    boundary.append(frames[i]*(100/16000))\n"
      ],
      "metadata": {
        "id": "oKjoQys7kDZd"
      },
      "execution_count": null,
      "outputs": []
    },
    {
      "cell_type": "code",
      "source": [
        "rounded_boundary = [round(num) for num in boundary]\n",
        "rounded_boundary"
      ],
      "metadata": {
        "colab": {
          "base_uri": "https://localhost:8080/"
        },
        "id": "71p3chAlkk68",
        "outputId": "7a20bc30-fd49-46bc-c03f-3c13f8805c82"
      },
      "execution_count": null,
      "outputs": [
        {
          "output_type": "execute_result",
          "data": {
            "text/plain": [
              "[13, 17, 20, 22, 28, 30, 38, 46, 51, 64, 77, 85, 89, 96]"
            ]
          },
          "metadata": {},
          "execution_count": 217
        }
      ]
    },
    {
      "cell_type": "code",
      "source": [
        "my_dir='/content/drive/MyDrive/FYP_22/Timit_data/TRAIN/cos_sim6.npy'"
      ],
      "metadata": {
        "id": "TpS3SAAmYZH8"
      },
      "execution_count": null,
      "outputs": []
    },
    {
      "cell_type": "code",
      "source": [
        "gg=np.load(my_dir)\n",
        "gg[20][28]"
      ],
      "metadata": {
        "colab": {
          "base_uri": "https://localhost:8080/"
        },
        "id": "fUNqlb_EYi7F",
        "outputId": "7e6ecbf6-a26e-4653-b2f8-183ff70204af"
      },
      "execution_count": null,
      "outputs": [
        {
          "output_type": "execute_result",
          "data": {
            "text/plain": [
              "0.53147423"
            ]
          },
          "metadata": {},
          "execution_count": 219
        }
      ]
    },
    {
      "cell_type": "code",
      "source": [
        "# for i in range(20,29):\n",
        "#   for j in range(20,29):\n",
        "#     gg[i][j]=1.0"
      ],
      "metadata": {
        "id": "xNTSp4WyYvjY"
      },
      "execution_count": null,
      "outputs": []
    },
    {
      "cell_type": "code",
      "source": [
        "# for i in range(29,37):\n",
        "#   for j in range(29,37):\n",
        "#     gg[i][j]=1.0"
      ],
      "metadata": {
        "id": "WmC5s2ZAbLLN"
      },
      "execution_count": null,
      "outputs": []
    },
    {
      "cell_type": "code",
      "source": [
        "# for i in range(37,43):\n",
        "#   for j in range(37,43):\n",
        "#     gg[i][j]=1.0"
      ],
      "metadata": {
        "id": "08NiwxDxbVr3"
      },
      "execution_count": null,
      "outputs": []
    },
    {
      "cell_type": "code",
      "source": [
        "# for i in range(43,58):\n",
        "#   for j in range(43,58):\n",
        "#     gg[i][j]=1.0"
      ],
      "metadata": {
        "id": "Yo9zntmcbcM8"
      },
      "execution_count": null,
      "outputs": []
    },
    {
      "cell_type": "code",
      "source": [
        "for i in range(len(rounded_boundary)-1):\n",
        "  for j in range(rounded_boundary[i]+1,rounded_boundary[i+1]+1):\n",
        "    for k in range(rounded_boundary[i]+1,rounded_boundary[i+1]+1):\n",
        "      gg[j][k]=1.0"
      ],
      "metadata": {
        "id": "tgL_sga9cSgz"
      },
      "execution_count": null,
      "outputs": []
    },
    {
      "cell_type": "code",
      "source": [
        "plt.imshow(gg)"
      ],
      "metadata": {
        "colab": {
          "base_uri": "https://localhost:8080/",
          "height": 285
        },
        "id": "um4UU0J_bDal",
        "outputId": "c91c56bb-114d-47d0-b585-cf1296a70799"
      },
      "execution_count": null,
      "outputs": [
        {
          "output_type": "execute_result",
          "data": {
            "text/plain": [
              "<matplotlib.image.AxesImage at 0x7f986896efd0>"
            ]
          },
          "metadata": {},
          "execution_count": 225
        },
        {
          "output_type": "display_data",
          "data": {
            "image/png": "[encoded data removed]",
            "text/plain": [
              "<Figure size 432x288 with 1 Axes>"
            ]
          },
          "metadata": {
            "needs_background": "light"
          }
        }
      ]
    },
    {
      "cell_type": "code",
      "source": [
        "for i in range(gg.shape[0]):\n",
        "  for j in range(gg.shape[1]):\n",
        "    if gg[i][j]<0.99:\n",
        "      gg[i][j]=0.0"
      ],
      "metadata": {
        "id": "iaFrjKaqd4Df"
      },
      "execution_count": null,
      "outputs": []
    },
    {
      "cell_type": "code",
      "source": [
        "plt.imshow(gg)"
      ],
      "metadata": {
        "colab": {
          "base_uri": "https://localhost:8080/",
          "height": 285
        },
        "id": "UaDnjpreedgV",
        "outputId": "e0a73a36-5002-4564-c182-2c6fd84e30fb"
      },
      "execution_count": null,
      "outputs": [
        {
          "output_type": "execute_result",
          "data": {
            "text/plain": [
              "<matplotlib.image.AxesImage at 0x7f98688db1d0>"
            ]
          },
          "metadata": {},
          "execution_count": 227
        },
        {
          "output_type": "display_data",
          "data": {
            "image/png": "[encoded data removed]",
            "text/plain": [
              "<Figure size 432x288 with 1 Axes>"
            ]
          },
          "metadata": {
            "needs_background": "light"
          }
        }
      ]
    },
    {
      "cell_type": "code",
      "source": [
        "# boundary=[]\n",
        "# for i in range(0,len(even_indexies)):\n",
        "#   even_indexies[i]\n",
        "#   for j in range(0,2):\n",
        "#     if even_indexies[i][j]/16000 <=1.05:\n",
        "#       boundary.append(even_indexies[i][j]*size_one_frame)\n",
        "\n",
        "\n",
        "# rounded_boundary = [round(num) for num in boundary]\n",
        "# boundary\n",
        "# Yahan par threhold ka bad array banegi or rounded hokar milegi"
      ],
      "metadata": {
        "id": "l2_65s-tQRLK"
      },
      "execution_count": null,
      "outputs": []
    },
    {
      "cell_type": "code",
      "source": [
        "# rounded_boundary = [round(num) for num in boundary]\n"
      ],
      "metadata": {
        "id": "VYiR4vG6QRPJ"
      },
      "execution_count": null,
      "outputs": []
    },
    {
      "cell_type": "code",
      "source": [
        "# image=[[0.0 for i in range(0,100)] for i in range(len(rounded_boundary)-1)]\n",
        "# len(image)"
      ],
      "metadata": {
        "id": "GpBFpqF9QRSn"
      },
      "execution_count": null,
      "outputs": []
    },
    {
      "cell_type": "code",
      "source": [
        "# for i in range(len(image)):\n",
        "#   for j in range(0,rounded_boundary[0]):\n",
        "#     image[i][j]=1.0"
      ],
      "metadata": {
        "id": "-BySBGhbo2g1"
      },
      "execution_count": null,
      "outputs": []
    },
    {
      "cell_type": "code",
      "source": [
        "# for i in range(len(rounded_boundary)-1):\n",
        "#   for j in range(rounded_boundary[i],rounded_boundary[i+1]):\n",
        "#     image[i][j]=1.0\n",
        "\n",
        "    \n"
      ],
      "metadata": {
        "id": "9UJpe7p1QRVm"
      },
      "execution_count": null,
      "outputs": []
    },
    {
      "cell_type": "code",
      "source": [
        "# image2=np.asarray(image)"
      ],
      "metadata": {
        "id": "G9yVZlS1QRYA"
      },
      "execution_count": null,
      "outputs": []
    },
    {
      "cell_type": "code",
      "source": [
        "# im=np.dot(image2.T,image2)"
      ],
      "metadata": {
        "id": "UMqqr_zzJKOk"
      },
      "execution_count": null,
      "outputs": []
    },
    {
      "cell_type": "code",
      "source": [
        "# for i in range(im.shape)"
      ],
      "metadata": {
        "id": "z9kg3VhBBoiv"
      },
      "execution_count": null,
      "outputs": []
    },
    {
      "cell_type": "code",
      "source": [
        "# final=(image2.T)*(image2)"
      ],
      "metadata": {
        "id": "H3OU_smCs4aY"
      },
      "execution_count": null,
      "outputs": []
    },
    {
      "cell_type": "code",
      "source": [
        "# plt.imshow(x1)"
      ],
      "metadata": {
        "id": "oI6YsPRBt4A9"
      },
      "execution_count": null,
      "outputs": []
    },
    {
      "cell_type": "code",
      "source": [
        "# a=[[1,2,3],[1,2,3]]\n",
        "# a=np.asarray(a)\n",
        "# a.shape"
      ],
      "metadata": {
        "id": "THnadziOt8VN"
      },
      "execution_count": null,
      "outputs": []
    },
    {
      "cell_type": "code",
      "source": [
        ""
      ],
      "metadata": {
        "id": "NgW_RVRHzX4m"
      },
      "execution_count": null,
      "outputs": []
    }
  ]
}