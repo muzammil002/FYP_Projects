{
  "cells": [
    {
      "cell_type": "markdown",
      "metadata": {
        "id": "view-in-github",
        "colab_type": "text"
      },
      "source": [
        "<a href=\"https://colab.research.google.com/github/muzammil002/FYP_Projects/blob/master/Ideal_image_creation.ipynb\" target=\"_parent\"><img src=\"https://colab.research.google.com/assets/colab-badge.svg\" alt=\"Open In Colab\"/></a>"
      ]
    },
    {
      "cell_type": "code",
      "execution_count": 2,
      "metadata": {
        "id": "BErOP3BghNuf"
      },
      "outputs": [],
      "source": [
        "import matplotlib.pyplot as plt\n",
        "from matplotlib import colors\n",
        "import numpy as np\n"
      ]
    },
    {
      "cell_type": "markdown",
      "source": [
        ""
      ],
      "metadata": {
        "id": "dA3aoxiOlumu"
      }
    },
    {
      "cell_type": "code",
      "execution_count": 3,
      "metadata": {
        "colab": {
          "base_uri": "https://localhost:8080/"
        },
        "id": "FVboNlaIaJ9y",
        "outputId": "2b25f1d6-54b3-4bfa-93d7-10810946af61"
      },
      "outputs": [
        {
          "output_type": "execute_result",
          "data": {
            "text/plain": [
              "0.024488796375658137"
            ]
          },
          "metadata": {},
          "execution_count": 3
        }
      ],
      "source": [
        "my_array=([0 ,3050] \n",
        ",[3050, 4559] \n",
        ",[4559 ,5723] \n",
        ",[5723 ,6642]\n",
        ",[6642 ,8772] \n",
        ",[8772 ,9190] \n",
        ",[9190 ,10337] \n",
        ",[10337 ,11517] \n",
        ",[11517 ,12500 ],\n",
        "[12500 ,12640], [12640, 14714],\n",
        "[14714, 15870] \n",
        ",[15870, 16334])\n",
        "image_size=400\n",
        "\n",
        "no_boundaries=len(my_array)\n",
        "max_frame=my_array[no_boundaries-1][1]\n",
        "size_one_frame=image_size/max_frame\n",
        "\n",
        "size_one_frame"
      ]
    },
    {
      "cell_type": "code",
      "source": [
        "[0, 2040,3060,655,9888,888]"
      ],
      "metadata": {
        "colab": {
          "base_uri": "https://localhost:8080/"
        },
        "id": "IPrQvSV4KZ3z",
        "outputId": "a1245de6-b97b-4d21-80aa-59df991b8564"
      },
      "execution_count": 7,
      "outputs": [
        {
          "output_type": "execute_result",
          "data": {
            "text/plain": [
              "array([[    0],\n",
              "       [ 3050],\n",
              "       [ 3050],\n",
              "       [ 4559],\n",
              "       [ 4559],\n",
              "       [ 5723],\n",
              "       [ 5723],\n",
              "       [ 6642],\n",
              "       [ 6642],\n",
              "       [ 8772],\n",
              "       [ 8772],\n",
              "       [ 9190],\n",
              "       [ 9190],\n",
              "       [10337],\n",
              "       [10337],\n",
              "       [11517],\n",
              "       [11517],\n",
              "       [12500],\n",
              "       [12500],\n",
              "       [12640],\n",
              "       [12640],\n",
              "       [14714],\n",
              "       [14714],\n",
              "       [15870],\n",
              "       [15870],\n",
              "       [16334]])"
            ]
          },
          "metadata": {},
          "execution_count": 7
        }
      ]
    },
    {
      "cell_type": "code",
      "execution_count": 21,
      "metadata": {
        "id": "ANe0gW1um2P8",
        "colab": {
          "base_uri": "https://localhost:8080/"
        },
        "outputId": "ef2024ba-3add-428a-e38d-2fff6da616f1"
      },
      "outputs": [
        {
          "output_type": "execute_result",
          "data": {
            "text/plain": [
              "([0, 3050],\n",
              " [4559, 5723],\n",
              " [6642, 8772],\n",
              " [9190, 10337],\n",
              " [11517, 12500],\n",
              " [12640, 14714],\n",
              " [15870, 16334])"
            ]
          },
          "metadata": {},
          "execution_count": 21
        }
      ],
      "source": [
        "even_indexies=my_array[::2]\n",
        "even_indexies"
      ]
    },
    {
      "cell_type": "code",
      "execution_count": 14,
      "metadata": {
        "colab": {
          "base_uri": "https://localhost:8080/"
        },
        "id": "FGnQw1RUl_Y_",
        "outputId": "3ce8bf74-ba9d-4ba0-9921-b11d8c9c00ed"
      },
      "outputs": [
        {
          "output_type": "stream",
          "name": "stdout",
          "text": [
            "[0, 3050, 3050, 4559, 4559, 5723, 5723, 6642, 6642, 8772, 8772, 9190, 9190, 10337, 10337, 11517, 11517, 12500, 12500, 12640, 12640, 14714, 14714, 15870, 15870, 16334]\n"
          ]
        }
      ],
      "source": [
        "\n",
        "boundary=[]\n",
        "for i in range(0,len(even_indexies)):\n",
        "  even_indexies[i]\n",
        "  for j in range(0,2):\n",
        "    boundary.append(even_indexies[i][j])\n",
        "    \n",
        "print(boundary)\n"
      ]
    },
    {
      "cell_type": "code",
      "execution_count": null,
      "metadata": {
        "colab": {
          "base_uri": "https://localhost:8080/"
        },
        "id": "RSrMs3oAm4CE",
        "outputId": "8fb8e58c-42e6-4e8c-c5f3-136959f0d6d8"
      },
      "outputs": [
        {
          "output_type": "execute_result",
          "data": {
            "text/plain": [
              "74.69082894575732"
            ]
          },
          "metadata": {},
          "execution_count": 5
        }
      ],
      "source": [
        "even_indexies[0][1]*size_one_frame"
      ]
    },
    {
      "cell_type": "code",
      "execution_count": null,
      "metadata": {
        "colab": {
          "base_uri": "https://localhost:8080/"
        },
        "id": "Y3j60hOpmlUO",
        "outputId": "346ef5e4-d072-4e0c-a259-7aa2044e33bb"
      },
      "outputs": [
        {
          "output_type": "stream",
          "name": "stdout",
          "text": [
            "[0, 75, 112, 140, 163, 215, 225, 253, 282, 306, 310, 360, 389, 400]\n"
          ]
        }
      ],
      "source": [
        "rounded_boundary = [round(num) for num in boundary]\n",
        "print(rounded_boundary)"
      ]
    },
    {
      "cell_type": "code",
      "execution_count": null,
      "metadata": {
        "colab": {
          "base_uri": "https://localhost:8080/",
          "height": 486
        },
        "id": "GM04dPYpkS1k",
        "outputId": "928d0651-b4de-43c2-8045-6e6aa1aeb635"
      },
      "outputs": [
        {
          "output_type": "display_data",
          "data": {
            "image/png": "[encoded data removed]",
            "text/plain": [
              "<Figure size 576x576 with 1 Axes>"
            ]
          },
          "metadata": {
            "needs_background": "light"
          }
        }
      ],
      "source": [
        "#user input parameters\n",
        "#boundaries=[50,75,115,225,515,650,700] #it contains audio frame\n",
        "\n",
        "\n",
        "#automated function\n",
        "array=[[0 for i in range(0,image_size)] for i in range(len(rounded_boundary))]\n",
        "\n",
        "merge_list=[]\n",
        "for i in range(len(array)):\n",
        "  if i>0:\n",
        "    for j in range(rounded_boundary[i-1],rounded_boundary[i]):\n",
        "      array[i][j]+=4.0\n",
        "    for k in range(rounded_boundary[i-1],rounded_boundary[i]):\n",
        "      merge_list.append(array[i])\n",
        "  else:\n",
        "    for j in range(rounded_boundary[i]):\n",
        "      array[i][j]+=4.0\n",
        "    for k in range(rounded_boundary[i]):\n",
        "      merge_list.append(array[i])\n",
        "harvest2=np.array(merge_list)\n",
        "cmap = colors.ListedColormap(['red', 'blue'])\n",
        "fig, ax = plt.subplots(figsize=(8,8))\n",
        "im = ax.imshow(harvest2,cmap=cmap)"
      ]
    },
    {
      "cell_type": "code",
      "execution_count": null,
      "metadata": {
        "id": "qFKiOAw1jgTi"
      },
      "outputs": [],
      "source": [
        "#from google.colab import drive\n",
        "#drive.mount('/content/drive')"
      ]
    },
    {
      "cell_type": "code",
      "execution_count": null,
      "metadata": {
        "id": "x38fDfAIjEGw"
      },
      "outputs": [],
      "source": [
        "import re"
      ]
    },
    {
      "cell_type": "code",
      "execution_count": null,
      "metadata": {
        "id": "A3Vnf2u9i6nS"
      },
      "outputs": [],
      "source": [
        "import numpy as np\n",
        "import re\n",
        "f = open(\"/content/SA1.PHN\", \"r\")\n",
        "lst=f.read()\n",
        "lst=(re.sub('\\D', ' ', lst))\n"
      ]
    },
    {
      "cell_type": "code",
      "source": [
        "new=np.fromstring(lst,dtype=int, sep=' ')\n",
        "shape=np.shape(new)\n",
        "\n"
      ],
      "metadata": {
        "id": "NdfRKb-GcAh9"
      },
      "execution_count": null,
      "outputs": []
    },
    {
      "cell_type": "code",
      "source": [
        "new_arr=np.array_split(new,37)\n",
        "new_arr"
      ],
      "metadata": {
        "colab": {
          "base_uri": "https://localhost:8080/"
        },
        "id": "Q29Vfn_0ehx3",
        "outputId": "cf362713-ef92-48d2-f7ff-11afcfbd0709"
      },
      "execution_count": null,
      "outputs": [
        {
          "output_type": "execute_result",
          "data": {
            "text/plain": [
              "[array([   0, 3050]),\n",
              " array([3050, 4559]),\n",
              " array([4559, 5723]),\n",
              " array([5723, 6642]),\n",
              " array([6642, 8772]),\n",
              " array([8772, 9190]),\n",
              " array([ 9190, 10337]),\n",
              " array([10337, 11517]),\n",
              " array([11517, 12500]),\n",
              " array([12500, 12640]),\n",
              " array([12640, 14714]),\n",
              " array([14714, 15870]),\n",
              " array([15870, 16334]),\n",
              " array([16334, 18088]),\n",
              " array([18088, 20417]),\n",
              " array([20417, 21199]),\n",
              " array([21199, 22560]),\n",
              " array([22560, 22920]),\n",
              " array([22920, 23271]),\n",
              " array([23271, 24229]),\n",
              " array([24229, 25566]),\n",
              " array([25566, 27156]),\n",
              " array([27156, 28064]),\n",
              " array([28064, 29660]),\n",
              " array([29660, 31719]),\n",
              " array([31719, 33360]),\n",
              " array([33360, 33754]),\n",
              " array([33754, 34715]),\n",
              " array([34715, 36080]),\n",
              " array([36080, 36326]),\n",
              " array([36326, 37556]),\n",
              " array([37556, 39561]),\n",
              " array([39561, 40313]),\n",
              " array([40313, 42059]),\n",
              " array([42059, 43479]),\n",
              " array([43479, 44586]),\n",
              " array([44586, 46720])]"
            ]
          },
          "metadata": {},
          "execution_count": 87
        }
      ]
    },
    {
      "cell_type": "code",
      "source": [
        "lines = f.readlines()\n",
        "lst=np.array(re.sub('\\D', ' ', lines))"
      ],
      "metadata": {
        "colab": {
          "base_uri": "https://localhost:8080/",
          "height": 319
        },
        "id": "HwyydbGyUoV4",
        "outputId": "65128750-d22d-4b12-da53-139e9dd213b8"
      },
      "execution_count": null,
      "outputs": [
        {
          "output_type": "error",
          "ename": "TypeError",
          "evalue": "ignored",
          "traceback": [
            "\u001b[0;31m---------------------------------------------------------------------------\u001b[0m",
            "\u001b[0;31mTypeError\u001b[0m                                 Traceback (most recent call last)",
            "\u001b[0;32m<ipython-input-61-6db8e8e83d38>\u001b[0m in \u001b[0;36m<module>\u001b[0;34m()\u001b[0m\n\u001b[1;32m      1\u001b[0m \u001b[0mlines\u001b[0m \u001b[0;34m=\u001b[0m \u001b[0mf\u001b[0m\u001b[0;34m.\u001b[0m\u001b[0mreadlines\u001b[0m\u001b[0;34m(\u001b[0m\u001b[0;34m)\u001b[0m\u001b[0;34m\u001b[0m\u001b[0;34m\u001b[0m\u001b[0m\n\u001b[0;32m----> 2\u001b[0;31m \u001b[0mlst\u001b[0m\u001b[0;34m=\u001b[0m\u001b[0mnp\u001b[0m\u001b[0;34m.\u001b[0m\u001b[0marray\u001b[0m\u001b[0;34m(\u001b[0m\u001b[0mre\u001b[0m\u001b[0;34m.\u001b[0m\u001b[0msub\u001b[0m\u001b[0;34m(\u001b[0m\u001b[0;34m'\\D'\u001b[0m\u001b[0;34m,\u001b[0m \u001b[0;34m' '\u001b[0m\u001b[0;34m,\u001b[0m \u001b[0mlines\u001b[0m\u001b[0;34m)\u001b[0m\u001b[0;34m)\u001b[0m\u001b[0;34m\u001b[0m\u001b[0;34m\u001b[0m\u001b[0m\n\u001b[0m",
            "\u001b[0;32m/usr/lib/python3.7/re.py\u001b[0m in \u001b[0;36msub\u001b[0;34m(pattern, repl, string, count, flags)\u001b[0m\n\u001b[1;32m    192\u001b[0m     \u001b[0ma\u001b[0m \u001b[0mcallable\u001b[0m\u001b[0;34m,\u001b[0m \u001b[0mit\u001b[0m\u001b[0;31m'\u001b[0m\u001b[0ms\u001b[0m \u001b[0mpassed\u001b[0m \u001b[0mthe\u001b[0m \u001b[0mMatch\u001b[0m \u001b[0mobject\u001b[0m \u001b[0;32mand\u001b[0m \u001b[0mmust\u001b[0m \u001b[0;32mreturn\u001b[0m\u001b[0;34m\u001b[0m\u001b[0;34m\u001b[0m\u001b[0m\n\u001b[1;32m    193\u001b[0m     a replacement string to be used.\"\"\"\n\u001b[0;32m--> 194\u001b[0;31m     \u001b[0;32mreturn\u001b[0m \u001b[0m_compile\u001b[0m\u001b[0;34m(\u001b[0m\u001b[0mpattern\u001b[0m\u001b[0;34m,\u001b[0m \u001b[0mflags\u001b[0m\u001b[0;34m)\u001b[0m\u001b[0;34m.\u001b[0m\u001b[0msub\u001b[0m\u001b[0;34m(\u001b[0m\u001b[0mrepl\u001b[0m\u001b[0;34m,\u001b[0m \u001b[0mstring\u001b[0m\u001b[0;34m,\u001b[0m \u001b[0mcount\u001b[0m\u001b[0;34m)\u001b[0m\u001b[0;34m\u001b[0m\u001b[0;34m\u001b[0m\u001b[0m\n\u001b[0m\u001b[1;32m    195\u001b[0m \u001b[0;34m\u001b[0m\u001b[0m\n\u001b[1;32m    196\u001b[0m \u001b[0;32mdef\u001b[0m \u001b[0msubn\u001b[0m\u001b[0;34m(\u001b[0m\u001b[0mpattern\u001b[0m\u001b[0;34m,\u001b[0m \u001b[0mrepl\u001b[0m\u001b[0;34m,\u001b[0m \u001b[0mstring\u001b[0m\u001b[0;34m,\u001b[0m \u001b[0mcount\u001b[0m\u001b[0;34m=\u001b[0m\u001b[0;36m0\u001b[0m\u001b[0;34m,\u001b[0m \u001b[0mflags\u001b[0m\u001b[0;34m=\u001b[0m\u001b[0;36m0\u001b[0m\u001b[0;34m)\u001b[0m\u001b[0;34m:\u001b[0m\u001b[0;34m\u001b[0m\u001b[0;34m\u001b[0m\u001b[0m\n",
            "\u001b[0;31mTypeError\u001b[0m: expected string or bytes-like object"
          ]
        }
      ]
    },
    {
      "cell_type": "code",
      "source": [
        "new_lines=np.array(lines)"
      ],
      "metadata": {
        "id": "fDqdlLLttOK3"
      },
      "execution_count": null,
      "outputs": []
    },
    {
      "cell_type": "code",
      "source": [
        "shape=np.shape(new_lines)\n",
        "shape"
      ],
      "metadata": {
        "colab": {
          "base_uri": "https://localhost:8080/"
        },
        "id": "OdRuH8YgTyGj",
        "outputId": "134bafa8-01b0-4e0c-d39a-19aa60926f30"
      },
      "execution_count": null,
      "outputs": [
        {
          "output_type": "execute_result",
          "data": {
            "text/plain": [
              "(37,)"
            ]
          },
          "metadata": {},
          "execution_count": 44
        }
      ]
    },
    {
      "cell_type": "code",
      "source": [
        "lst1=np.reshape(new_lines,(37,1))\n",
        "np.shape(lst1)"
      ],
      "metadata": {
        "colab": {
          "base_uri": "https://localhost:8080/"
        },
        "id": "TDXxZliuWWnV",
        "outputId": "a629dda3-3844-4a9c-f7e1-edfc99100b2f"
      },
      "execution_count": null,
      "outputs": [
        {
          "output_type": "execute_result",
          "data": {
            "text/plain": [
              "(37, 1)"
            ]
          },
          "metadata": {},
          "execution_count": 71
        }
      ]
    },
    {
      "cell_type": "code",
      "source": [
        "for char in lst1:\n",
        "    if char in \" abcdefghjklmnopqrstuvwxyz?.!/;:\":\n",
        "        line.replace(char,'')"
      ],
      "metadata": {
        "colab": {
          "base_uri": "https://localhost:8080/",
          "height": 209
        },
        "id": "yT4QQOL9Xti7",
        "outputId": "b8877dc6-d1ee-458f-cfb0-f4eca655cdf2"
      },
      "execution_count": null,
      "outputs": [
        {
          "output_type": "error",
          "ename": "TypeError",
          "evalue": "ignored",
          "traceback": [
            "\u001b[0;31m---------------------------------------------------------------------------\u001b[0m",
            "\u001b[0;31mTypeError\u001b[0m                                 Traceback (most recent call last)",
            "\u001b[0;32m<ipython-input-49-11e3f0ddb089>\u001b[0m in \u001b[0;36m<module>\u001b[0;34m()\u001b[0m\n\u001b[1;32m      1\u001b[0m \u001b[0;32mfor\u001b[0m \u001b[0mchar\u001b[0m \u001b[0;32min\u001b[0m \u001b[0mlst1\u001b[0m\u001b[0;34m:\u001b[0m\u001b[0;34m\u001b[0m\u001b[0;34m\u001b[0m\u001b[0m\n\u001b[0;32m----> 2\u001b[0;31m     \u001b[0;32mif\u001b[0m \u001b[0mchar\u001b[0m \u001b[0;32min\u001b[0m \u001b[0;34m\" abcdefghjklmnopqrstuvwxyz?.!/;:\"\u001b[0m\u001b[0;34m:\u001b[0m\u001b[0;34m\u001b[0m\u001b[0;34m\u001b[0m\u001b[0m\n\u001b[0m\u001b[1;32m      3\u001b[0m         \u001b[0mline\u001b[0m\u001b[0;34m.\u001b[0m\u001b[0mreplace\u001b[0m\u001b[0;34m(\u001b[0m\u001b[0mchar\u001b[0m\u001b[0;34m,\u001b[0m\u001b[0;34m''\u001b[0m\u001b[0;34m)\u001b[0m\u001b[0;34m\u001b[0m\u001b[0;34m\u001b[0m\u001b[0m\n",
            "\u001b[0;31mTypeError\u001b[0m: 'in <string>' requires string as left operand, not numpy.ndarray"
          ]
        }
      ]
    },
    {
      "cell_type": "code",
      "execution_count": null,
      "metadata": {
        "id": "K3P2VNSh4INF",
        "colab": {
          "base_uri": "https://localhost:8080/"
        },
        "outputId": "2a5213b1-b615-4d23-cea0-85997514f66e"
      },
      "outputs": [
        {
          "output_type": "execute_result",
          "data": {
            "text/plain": [
              "array([['0 3050 h#\\n'],\n",
              "       ['3050 4559 sh\\n'],\n",
              "       ['4559 5723 ix\\n'],\n",
              "       ['5723 6642 hv\\n'],\n",
              "       ['6642 8772 eh\\n'],\n",
              "       ['8772 9190 dcl\\n'],\n",
              "       ['9190 10337 jh\\n'],\n",
              "       ['10337 11517 ih\\n'],\n",
              "       ['11517 12500 dcl\\n'],\n",
              "       ['12500 12640 d\\n'],\n",
              "       ['12640 14714 ah\\n'],\n",
              "       ['14714 15870 kcl\\n'],\n",
              "       ['15870 16334 k\\n'],\n",
              "       ['16334 18088 s\\n'],\n",
              "       ['18088 20417 ux\\n'],\n",
              "       ['20417 21199 q\\n'],\n",
              "       ['21199 22560 en\\n'],\n",
              "       ['22560 22920 gcl\\n'],\n",
              "       ['22920 23271 g\\n'],\n",
              "       ['23271 24229 r\\n'],\n",
              "       ['24229 25566 ix\\n'],\n",
              "       ['25566 27156 s\\n'],\n",
              "       ['27156 28064 ix\\n'],\n",
              "       ['28064 29660 w\\n'],\n",
              "       ['29660 31719 ao\\n'],\n",
              "       ['31719 33360 sh\\n'],\n",
              "       ['33360 33754 epi\\n'],\n",
              "       ['33754 34715 w\\n'],\n",
              "       ['34715 36080 ao\\n'],\n",
              "       ['36080 36326 dx\\n'],\n",
              "       ['36326 37556 axr\\n'],\n",
              "       ['37556 39561 ao\\n'],\n",
              "       ['39561 40313 l\\n'],\n",
              "       ['40313 42059 y\\n'],\n",
              "       ['42059 43479 ih\\n'],\n",
              "       ['43479 44586 axr\\n'],\n",
              "       ['44586 46720 h#\\n']], dtype='<U16')"
            ]
          },
          "metadata": {},
          "execution_count": 51
        }
      ],
      "source": [
        "char='abcdefghjklmnopqrstuvwxyz#\\?.!/;:'\n",
        "np.char.strip(lst1,chars=char)"
      ]
    },
    {
      "cell_type": "code",
      "source": [
        "lst1[0]"
      ],
      "metadata": {
        "id": "jcj0zsNsvHr7",
        "colab": {
          "base_uri": "https://localhost:8080/"
        },
        "outputId": "ac794d2c-64ba-4ff4-f053-70d067666fb5"
      },
      "execution_count": null,
      "outputs": [
        {
          "output_type": "execute_result",
          "data": {
            "text/plain": [
              "array(['0 3050 h#\\n'], dtype='<U16')"
            ]
          },
          "metadata": {},
          "execution_count": 56
        }
      ]
    },
    {
      "cell_type": "code",
      "execution_count": null,
      "metadata": {
        "id": "tOMvd1h034hB"
      },
      "outputs": [],
      "source": [
        ""
      ]
    },
    {
      "cell_type": "code",
      "execution_count": null,
      "metadata": {
        "id": "W5bCoxXS3nBH"
      },
      "outputs": [],
      "source": [
        ""
      ]
    },
    {
      "cell_type": "code",
      "execution_count": null,
      "metadata": {
        "id": "M64SCSw_3i1E"
      },
      "outputs": [],
      "source": [
        ""
      ]
    },
    {
      "cell_type": "code",
      "execution_count": null,
      "metadata": {
        "id": "pc8TVtFd3CGW"
      },
      "outputs": [],
      "source": [
        ""
      ]
    },
    {
      "cell_type": "code",
      "execution_count": null,
      "metadata": {
        "id": "KRXbQ2o-21Wq"
      },
      "outputs": [],
      "source": [
        ""
      ]
    },
    {
      "cell_type": "code",
      "execution_count": null,
      "metadata": {
        "id": "MJlE7PmJ2yUc"
      },
      "outputs": [],
      "source": [
        ""
      ]
    },
    {
      "cell_type": "code",
      "execution_count": null,
      "metadata": {
        "id": "RH4GAgC714oY"
      },
      "outputs": [],
      "source": [
        ""
      ]
    },
    {
      "cell_type": "code",
      "execution_count": null,
      "metadata": {
        "id": "RpVNEyvQ107d"
      },
      "outputs": [],
      "source": [
        ""
      ]
    },
    {
      "cell_type": "code",
      "execution_count": null,
      "metadata": {
        "id": "Fw85IfW71wkT"
      },
      "outputs": [],
      "source": [
        ""
      ]
    },
    {
      "cell_type": "code",
      "execution_count": null,
      "metadata": {
        "id": "z2r08Syi1rsC"
      },
      "outputs": [],
      "source": [
        ""
      ]
    },
    {
      "cell_type": "code",
      "execution_count": null,
      "metadata": {
        "id": "P2bmux2w1or-"
      },
      "outputs": [],
      "source": [
        ""
      ]
    },
    {
      "cell_type": "code",
      "execution_count": null,
      "metadata": {
        "id": "e5sJBVby1ly6"
      },
      "outputs": [],
      "source": [
        ""
      ]
    },
    {
      "cell_type": "code",
      "execution_count": null,
      "metadata": {
        "id": "gLTAEz6c1jUv"
      },
      "outputs": [],
      "source": [
        ""
      ]
    },
    {
      "cell_type": "code",
      "execution_count": null,
      "metadata": {
        "id": "0qju3vBi1iJv"
      },
      "outputs": [],
      "source": [
        ""
      ]
    },
    {
      "cell_type": "code",
      "execution_count": null,
      "metadata": {
        "id": "O8PxUEUg1d2u"
      },
      "outputs": [],
      "source": [
        ""
      ]
    },
    {
      "cell_type": "code",
      "execution_count": null,
      "metadata": {
        "id": "1g-Po1Y61bZh"
      },
      "outputs": [],
      "source": [
        ""
      ]
    },
    {
      "cell_type": "code",
      "execution_count": null,
      "metadata": {
        "id": "niTIVgWT1VQV"
      },
      "outputs": [],
      "source": [
        ""
      ]
    },
    {
      "cell_type": "code",
      "execution_count": null,
      "metadata": {
        "id": "OQ4FyqJb1R82"
      },
      "outputs": [],
      "source": [
        ""
      ]
    },
    {
      "cell_type": "code",
      "execution_count": null,
      "metadata": {
        "id": "Z-D212a71RIV"
      },
      "outputs": [],
      "source": [
        ""
      ]
    },
    {
      "cell_type": "code",
      "execution_count": null,
      "metadata": {
        "id": "J-pPe2oK1HW5"
      },
      "outputs": [],
      "source": [
        ""
      ]
    },
    {
      "cell_type": "code",
      "execution_count": null,
      "metadata": {
        "id": "-ZrERvdf1C5a"
      },
      "outputs": [],
      "source": [
        ""
      ]
    },
    {
      "cell_type": "code",
      "execution_count": null,
      "metadata": {
        "id": "8NvXJOtH1AMS"
      },
      "outputs": [],
      "source": [
        ""
      ]
    },
    {
      "cell_type": "code",
      "execution_count": null,
      "metadata": {
        "id": "JZIRsb0n0z8n"
      },
      "outputs": [],
      "source": [
        ""
      ]
    },
    {
      "cell_type": "code",
      "execution_count": null,
      "metadata": {
        "id": "i0yY0t7B0s6D"
      },
      "outputs": [],
      "source": [
        ""
      ]
    },
    {
      "cell_type": "code",
      "execution_count": null,
      "metadata": {
        "id": "7c7CCE9T0ppA"
      },
      "outputs": [],
      "source": [
        ""
      ]
    },
    {
      "cell_type": "code",
      "execution_count": null,
      "metadata": {
        "id": "16DQyo0-iE1q",
        "colab": {
          "base_uri": "https://localhost:8080/"
        },
        "outputId": "6dc31f89-7ee1-4fd9-cce4-cc7facdd4bc7"
      },
      "outputs": [
        {
          "output_type": "execute_result",
          "data": {
            "text/plain": [
              "7"
            ]
          },
          "metadata": {},
          "execution_count": 11
        }
      ],
      "source": [
        "len(even_indexies)"
      ]
    },
    {
      "cell_type": "code",
      "execution_count": null,
      "metadata": {
        "id": "s5IbSUa1n5Av"
      },
      "outputs": [],
      "source": [
        "shape=np.shape(even_indexies)"
      ]
    },
    {
      "cell_type": "code",
      "execution_count": null,
      "metadata": {
        "id": "IYE1_xvlpEJ0",
        "colab": {
          "base_uri": "https://localhost:8080/"
        },
        "outputId": "bf3a41bc-bf1a-4a86-f345-c3cabf9081df"
      },
      "outputs": [
        {
          "output_type": "execute_result",
          "data": {
            "text/plain": [
              "13"
            ]
          },
          "metadata": {},
          "execution_count": 13
        }
      ],
      "source": [
        "2*len(even_indexies)-1"
      ]
    },
    {
      "cell_type": "code",
      "execution_count": null,
      "metadata": {
        "id": "GkskK-5spvVs"
      },
      "outputs": [],
      "source": [
        ""
      ]
    },
    {
      "cell_type": "code",
      "execution_count": null,
      "metadata": {
        "id": "93KGbD2xptwo",
        "colab": {
          "base_uri": "https://localhost:8080/"
        },
        "outputId": "bb6e88c2-d27b-4905-ac3b-ac779b68718c"
      },
      "outputs": [
        {
          "output_type": "execute_result",
          "data": {
            "text/plain": [
              "3050"
            ]
          },
          "metadata": {},
          "execution_count": 14
        }
      ],
      "source": [
        "even_indexies[0][1]"
      ]
    },
    {
      "cell_type": "code",
      "execution_count": null,
      "metadata": {
        "id": "6omZVZZIq-m_"
      },
      "outputs": [],
      "source": [
        ""
      ]
    },
    {
      "cell_type": "code",
      "execution_count": null,
      "metadata": {
        "id": "eM5bY3_Hrg_m"
      },
      "outputs": [],
      "source": [
        ""
      ]
    },
    {
      "cell_type": "code",
      "execution_count": null,
      "metadata": {
        "id": "UTmIKe5ur_UG"
      },
      "outputs": [],
      "source": [
        ""
      ]
    },
    {
      "cell_type": "code",
      "execution_count": null,
      "metadata": {
        "id": "kB9sPNNWrhrz"
      },
      "outputs": [],
      "source": [
        ""
      ]
    },
    {
      "cell_type": "code",
      "execution_count": null,
      "metadata": {
        "id": "cIajVbAWqmDh"
      },
      "outputs": [],
      "source": [
        ""
      ]
    },
    {
      "cell_type": "code",
      "execution_count": null,
      "metadata": {
        "id": "7m72YQbStx93"
      },
      "outputs": [],
      "source": [
        ""
      ]
    },
    {
      "cell_type": "code",
      "execution_count": null,
      "metadata": {
        "id": "C_bFR9sUtuW0"
      },
      "outputs": [],
      "source": [
        ""
      ]
    },
    {
      "cell_type": "code",
      "execution_count": null,
      "metadata": {
        "id": "XRj29nj0tsj7"
      },
      "outputs": [],
      "source": [
        ""
      ]
    },
    {
      "cell_type": "code",
      "execution_count": null,
      "metadata": {
        "id": "8Jkx51bVtma_"
      },
      "outputs": [],
      "source": [
        ""
      ]
    },
    {
      "cell_type": "code",
      "execution_count": null,
      "metadata": {
        "id": "WeIfQNoHtjwZ"
      },
      "outputs": [],
      "source": [
        ""
      ]
    },
    {
      "cell_type": "code",
      "execution_count": null,
      "metadata": {
        "id": "R_krylF-teS2"
      },
      "outputs": [],
      "source": [
        ""
      ]
    },
    {
      "cell_type": "code",
      "execution_count": null,
      "metadata": {
        "id": "HlW7GfkmtVlr"
      },
      "outputs": [],
      "source": [
        ""
      ]
    },
    {
      "cell_type": "code",
      "execution_count": null,
      "metadata": {
        "id": "NrifI8oPtR-i"
      },
      "outputs": [],
      "source": [
        ""
      ]
    },
    {
      "cell_type": "code",
      "execution_count": null,
      "metadata": {
        "id": "Akxuhy68tPX1"
      },
      "outputs": [],
      "source": [
        ""
      ]
    },
    {
      "cell_type": "code",
      "execution_count": null,
      "metadata": {
        "id": "RnEKzzoBtKUT"
      },
      "outputs": [],
      "source": [
        ""
      ]
    },
    {
      "cell_type": "code",
      "execution_count": null,
      "metadata": {
        "id": "3xoa9TIktHJo"
      },
      "outputs": [],
      "source": [
        ""
      ]
    },
    {
      "cell_type": "code",
      "execution_count": null,
      "metadata": {
        "id": "2tR8ZmgrfN9f"
      },
      "outputs": [],
      "source": [
        ""
      ]
    },
    {
      "cell_type": "code",
      "execution_count": null,
      "metadata": {
        "id": "4n1dZbPCvnc4"
      },
      "outputs": [],
      "source": [
        ""
      ]
    },
    {
      "cell_type": "code",
      "execution_count": null,
      "metadata": {
        "id": "8OYf9U2twYcy"
      },
      "outputs": [],
      "source": [
        ""
      ]
    },
    {
      "cell_type": "code",
      "execution_count": null,
      "metadata": {
        "id": "uv31qUL8wTOw"
      },
      "outputs": [],
      "source": [
        ""
      ]
    },
    {
      "cell_type": "code",
      "execution_count": null,
      "metadata": {
        "id": "qYpzPNYIwPZX"
      },
      "outputs": [],
      "source": [
        ""
      ]
    },
    {
      "cell_type": "code",
      "execution_count": null,
      "metadata": {
        "id": "KBZi2h7Dv83i"
      },
      "outputs": [],
      "source": [
        ""
      ]
    },
    {
      "cell_type": "code",
      "execution_count": null,
      "metadata": {
        "id": "Jymijs4dvtG8"
      },
      "outputs": [],
      "source": [
        ""
      ]
    },
    {
      "cell_type": "code",
      "execution_count": null,
      "metadata": {
        "id": "m83B7MJpvqWI"
      },
      "outputs": [],
      "source": [
        ""
      ]
    },
    {
      "cell_type": "code",
      "execution_count": null,
      "metadata": {
        "id": "7dNrMyXtviKo"
      },
      "outputs": [],
      "source": [
        ""
      ]
    },
    {
      "cell_type": "code",
      "execution_count": null,
      "metadata": {
        "id": "AcQdyshyvZs-"
      },
      "outputs": [],
      "source": [
        ""
      ]
    },
    {
      "cell_type": "code",
      "execution_count": null,
      "metadata": {
        "id": "-A7ww6jxvPcY"
      },
      "outputs": [],
      "source": [
        ""
      ]
    },
    {
      "cell_type": "code",
      "execution_count": null,
      "metadata": {
        "id": "XhM95u1Vu5Ea"
      },
      "outputs": [],
      "source": [
        ""
      ]
    },
    {
      "cell_type": "code",
      "execution_count": null,
      "metadata": {
        "id": "p9hJ_gi-un0Z"
      },
      "outputs": [],
      "source": [
        ""
      ]
    },
    {
      "cell_type": "code",
      "execution_count": null,
      "metadata": {
        "id": "CqzjvBovs3ny"
      },
      "outputs": [],
      "source": [
        ""
      ]
    },
    {
      "cell_type": "code",
      "execution_count": null,
      "metadata": {
        "id": "UYe4WuJAst54"
      },
      "outputs": [],
      "source": [
        ""
      ]
    },
    {
      "cell_type": "code",
      "execution_count": null,
      "metadata": {
        "id": "QN7a3MS-sqVK"
      },
      "outputs": [],
      "source": [
        ""
      ]
    },
    {
      "cell_type": "code",
      "execution_count": null,
      "metadata": {
        "id": "zL-BG180sb-i"
      },
      "outputs": [],
      "source": [
        ""
      ]
    },
    {
      "cell_type": "code",
      "execution_count": null,
      "metadata": {
        "id": "KqD7E_yisaKm"
      },
      "outputs": [],
      "source": [
        ""
      ]
    },
    {
      "cell_type": "code",
      "execution_count": null,
      "metadata": {
        "id": "QolKBU-YrDav"
      },
      "outputs": [],
      "source": [
        ""
      ]
    },
    {
      "cell_type": "code",
      "execution_count": null,
      "metadata": {
        "id": "9k75eimrp_Z7"
      },
      "outputs": [],
      "source": [
        ""
      ]
    },
    {
      "cell_type": "code",
      "execution_count": null,
      "metadata": {
        "id": "VYNrvf9Ln87Y"
      },
      "outputs": [],
      "source": [
        ""
      ]
    },
    {
      "cell_type": "code",
      "execution_count": null,
      "metadata": {
        "id": "-FCGdZghn0B5"
      },
      "outputs": [],
      "source": [
        ""
      ]
    },
    {
      "cell_type": "code",
      "execution_count": null,
      "metadata": {
        "id": "hmOZUc8LkRyS"
      },
      "outputs": [],
      "source": [
        ""
      ]
    },
    {
      "cell_type": "code",
      "execution_count": null,
      "metadata": {
        "id": "nOz_z0g6jhWT",
        "colab": {
          "base_uri": "https://localhost:8080/"
        },
        "outputId": "09480bbb-404a-42c5-c826-4365ba28dda0"
      },
      "outputs": [
        {
          "output_type": "execute_result",
          "data": {
            "text/plain": [
              "[4559, 5723]"
            ]
          },
          "metadata": {},
          "execution_count": 15
        }
      ],
      "source": [
        "even_indexies[1]"
      ]
    },
    {
      "cell_type": "code",
      "execution_count": null,
      "metadata": {
        "id": "J9_Mlushjt2j"
      },
      "outputs": [],
      "source": [
        ""
      ]
    },
    {
      "cell_type": "code",
      "execution_count": null,
      "metadata": {
        "id": "e0wY78_tm5tB"
      },
      "outputs": [],
      "source": [
        ""
      ]
    },
    {
      "cell_type": "code",
      "execution_count": null,
      "metadata": {
        "id": "U04JOeRYmb4A"
      },
      "outputs": [],
      "source": [
        ""
      ]
    },
    {
      "cell_type": "code",
      "execution_count": null,
      "metadata": {
        "id": "o3gwEAkUmYEK"
      },
      "outputs": [],
      "source": [
        ""
      ]
    },
    {
      "cell_type": "code",
      "execution_count": null,
      "metadata": {
        "id": "dX0XG9EHmVbG"
      },
      "outputs": [],
      "source": [
        ""
      ]
    },
    {
      "cell_type": "code",
      "execution_count": null,
      "metadata": {
        "id": "grK5xUPzmQBc"
      },
      "outputs": [],
      "source": [
        ""
      ]
    },
    {
      "cell_type": "code",
      "execution_count": null,
      "metadata": {
        "id": "CV5YNbT3gEdD"
      },
      "outputs": [],
      "source": [
        ""
      ]
    },
    {
      "cell_type": "code",
      "execution_count": null,
      "metadata": {
        "id": "ZihJKSBjmNYi"
      },
      "outputs": [],
      "source": [
        ""
      ]
    },
    {
      "cell_type": "code",
      "execution_count": null,
      "metadata": {
        "id": "8k_MoZydmJfL"
      },
      "outputs": [],
      "source": [
        ""
      ]
    },
    {
      "cell_type": "code",
      "execution_count": null,
      "metadata": {
        "id": "3oguGfa7mG9N"
      },
      "outputs": [],
      "source": [
        ""
      ]
    },
    {
      "cell_type": "code",
      "execution_count": null,
      "metadata": {
        "id": "Z7C_89jLjkfw"
      },
      "outputs": [],
      "source": [
        ""
      ]
    },
    {
      "cell_type": "code",
      "execution_count": null,
      "metadata": {
        "id": "AMjWGK9SiN5u"
      },
      "outputs": [],
      "source": [
        ""
      ]
    },
    {
      "cell_type": "code",
      "execution_count": null,
      "metadata": {
        "id": "hBzglXVEiLTq"
      },
      "outputs": [],
      "source": [
        ""
      ]
    },
    {
      "cell_type": "code",
      "execution_count": null,
      "metadata": {
        "id": "B1tCnzbMhehQ"
      },
      "outputs": [],
      "source": [
        ""
      ]
    },
    {
      "cell_type": "code",
      "execution_count": null,
      "metadata": {
        "id": "ppiecDwHgf8m"
      },
      "outputs": [],
      "source": [
        ""
      ]
    },
    {
      "cell_type": "code",
      "execution_count": null,
      "metadata": {
        "id": "_I_29DtVf_JV"
      },
      "outputs": [],
      "source": [
        ""
      ]
    },
    {
      "cell_type": "code",
      "execution_count": null,
      "metadata": {
        "id": "2HX4LT6ne1HS"
      },
      "outputs": [],
      "source": [
        ""
      ]
    },
    {
      "cell_type": "code",
      "execution_count": null,
      "metadata": {
        "id": "TGjbmfXdeyiL",
        "colab": {
          "base_uri": "https://localhost:8080/",
          "height": 269
        },
        "outputId": "8ab592be-da78-4968-9edd-aaf842d84f93"
      },
      "outputs": [
        {
          "output_type": "display_data",
          "data": {
            "image/png": "[encoded data removed]",
            "text/plain": [
              "<Figure size 432x288 with 1 Axes>"
            ]
          },
          "metadata": {
            "needs_background": "light"
          }
        }
      ],
      "source": [
        "#user input parameters\n",
        "boundaries=[50,75,115,225,515,650,700] #it contains audio frame\n",
        "image_size=700\n",
        "\n",
        "#automated function\n",
        "array=[[0 for i in range(0,image_size)] for i in range(len(boundaries))]\n",
        "\n",
        "merge_list=[]\n",
        "for i in range(len(array)):\n",
        "  if i>0:\n",
        "    for j in range(boundaries[i-1],boundaries[i]):\n",
        "      array[i][j]+=4.0\n",
        "    for k in range(boundaries[i-1],boundaries[i]):\n",
        "      merge_list.append(array[i])\n",
        "  else:\n",
        "    for j in range(boundaries[i]):\n",
        "      array[i][j]+=4.0\n",
        "    for k in range(boundaries[i]):\n",
        "      merge_list.append(array[i])\n",
        "harvest2=np.array(merge_list)\n",
        "cmap = colors.ListedColormap(['red', 'blue'])\n",
        "fig, ax = plt.subplots()\n",
        "im = ax.imshow(harvest2,cmap=cmap)"
      ]
    },
    {
      "cell_type": "code",
      "execution_count": null,
      "metadata": {
        "id": "t6xVJ-ezevKF"
      },
      "outputs": [],
      "source": [
        ""
      ]
    },
    {
      "cell_type": "code",
      "execution_count": null,
      "metadata": {
        "id": "yTQdZHIBeZ5x"
      },
      "outputs": [],
      "source": [
        ""
      ]
    },
    {
      "cell_type": "code",
      "execution_count": null,
      "metadata": {
        "id": "9Wotk2SceW7Q"
      },
      "outputs": [],
      "source": [
        ""
      ]
    },
    {
      "cell_type": "code",
      "execution_count": null,
      "metadata": {
        "id": "gH3UdHUAeN1K"
      },
      "outputs": [],
      "source": [
        ""
      ]
    },
    {
      "cell_type": "code",
      "execution_count": null,
      "metadata": {
        "id": "gSKEOFp8eJGu"
      },
      "outputs": [],
      "source": [
        ""
      ]
    },
    {
      "cell_type": "code",
      "execution_count": null,
      "metadata": {
        "id": "hsXZfNWSeFDt"
      },
      "outputs": [],
      "source": [
        ""
      ]
    },
    {
      "cell_type": "code",
      "execution_count": null,
      "metadata": {
        "id": "VYZz2qXEdVt8"
      },
      "outputs": [],
      "source": [
        ""
      ]
    },
    {
      "cell_type": "code",
      "execution_count": null,
      "metadata": {
        "id": "pZ6lHR1tbjoF"
      },
      "outputs": [],
      "source": [
        ""
      ]
    },
    {
      "cell_type": "code",
      "execution_count": null,
      "metadata": {
        "id": "UnMzUVl6bhB1"
      },
      "outputs": [],
      "source": [
        ""
      ]
    },
    {
      "cell_type": "code",
      "execution_count": null,
      "metadata": {
        "id": "HsLEyzAqbYCY"
      },
      "outputs": [],
      "source": [
        ""
      ]
    },
    {
      "cell_type": "code",
      "execution_count": null,
      "metadata": {
        "id": "tgx1GcNSbP5U"
      },
      "outputs": [],
      "source": [
        ""
      ]
    },
    {
      "cell_type": "code",
      "execution_count": null,
      "metadata": {
        "id": "RJahLTLhbMEB"
      },
      "outputs": [],
      "source": [
        ""
      ]
    },
    {
      "cell_type": "code",
      "execution_count": null,
      "metadata": {
        "id": "fYoYjzpCazew"
      },
      "outputs": [],
      "source": [
        ""
      ]
    },
    {
      "cell_type": "code",
      "execution_count": null,
      "metadata": {
        "id": "HRqx7AJKaimG"
      },
      "outputs": [],
      "source": [
        ""
      ]
    },
    {
      "cell_type": "code",
      "execution_count": null,
      "metadata": {
        "id": "-QOYHzX2jOdw"
      },
      "outputs": [],
      "source": [
        ""
      ]
    },
    {
      "cell_type": "code",
      "execution_count": null,
      "metadata": {
        "id": "QD1IsBpLnzyK"
      },
      "outputs": [],
      "source": [
        ""
      ]
    },
    {
      "cell_type": "code",
      "execution_count": null,
      "metadata": {
        "id": "L4dKysbKj3x_"
      },
      "outputs": [],
      "source": [
        "for i in range(len(array)):\n",
        "  if i>0:\n",
        "    for j in range(boundaries[i-1],boundaries[i]):\n",
        "      array[i][j]+=4.0\n",
        "      \n",
        "  "
      ]
    },
    {
      "cell_type": "code",
      "execution_count": null,
      "metadata": {
        "id": "i2i-XRuCkc8m"
      },
      "outputs": [],
      "source": [
        ""
      ]
    },
    {
      "cell_type": "code",
      "execution_count": null,
      "metadata": {
        "id": "xQl81zVukZUH"
      },
      "outputs": [],
      "source": [
        ""
      ]
    },
    {
      "cell_type": "code",
      "execution_count": null,
      "metadata": {
        "id": "EjcIXAPjiz27",
        "colab": {
          "base_uri": "https://localhost:8080/"
        },
        "outputId": "007e725c-b17b-4c8f-ae1c-bd565c84d54c"
      },
      "outputs": [
        {
          "output_type": "execute_result",
          "data": {
            "text/plain": [
              "(700, 700)"
            ]
          },
          "metadata": {},
          "execution_count": 18
        }
      ],
      "source": [
        "np.shape(merge_list)"
      ]
    },
    {
      "cell_type": "code",
      "execution_count": null,
      "metadata": {
        "id": "hnI_g-qHjIuv"
      },
      "outputs": [],
      "source": [
        ""
      ]
    },
    {
      "cell_type": "code",
      "execution_count": null,
      "metadata": {
        "id": "dCYbl6NPi9Nn"
      },
      "outputs": [],
      "source": [
        ""
      ]
    }
  ],
  "metadata": {
    "colab": {
      "collapsed_sections": [],
      "name": "Ideal_image_creation.ipynb",
      "provenance": [],
      "include_colab_link": true
    },
    "kernelspec": {
      "display_name": "Python 3",
      "name": "python3"
    },
    "language_info": {
      "name": "python"
    }
  },
  "nbformat": 4,
  "nbformat_minor": 0
}